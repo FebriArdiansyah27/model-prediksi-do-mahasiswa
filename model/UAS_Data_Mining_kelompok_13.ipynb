{
  "nbformat": 4,
  "nbformat_minor": 0,
  "metadata": {
    "colab": {
      "provenance": []
    },
    "kernelspec": {
      "name": "python3",
      "display_name": "Python 3"
    },
    "language_info": {
      "name": "python"
    }
  },
  "cells": [
    {
      "cell_type": "markdown",
      "source": [
        "## IMPORT LIBRARY"
      ],
      "metadata": {
        "id": "eLplvYKi50ls"
      }
    },
    {
      "cell_type": "code",
      "execution_count": 130,
      "metadata": {
        "id": "rud-jT5-yQmS"
      },
      "outputs": [],
      "source": [
        "# 1. IMPORT LIBRARY YANG DIBUTUHKAN\n",
        "import pandas as pd\n",
        "import numpy as np\n",
        "from sklearn.ensemble import RandomForestClassifier\n",
        "from sklearn.model_selection import train_test_split\n",
        "from sklearn.metrics import classification_report, confusion_matrix, accuracy_score\n",
        "import matplotlib.pyplot as plt\n",
        "import pandas as pd\n",
        "import seaborn as sns\n",
        "import joblib\n",
        "import os"
      ]
    },
    {
      "cell_type": "markdown",
      "source": [
        "Kode ini menyiapkan semua alat penting untuk memproses data, membangun model klasifikasi dengan Random Forest, mengevaluasi performanya, dan menyimpan hasilnya agar bisa digunakan dalam aplikasi prediksi ke depannya.\n",
        "\n",
        "**Penjelasan Singkat:**\n",
        "\n",
        "pandas & numpy: Untuk membaca dan mengolah data.\n",
        "\n",
        "RandomForestClassifier: Algoritma klasifikasi berbasis banyak pohon keputusan.\n",
        "\n",
        "train_test_split: Membagi data menjadi latih dan uji.\n",
        "\n",
        "classification_report, confusion_matrix, accuracy_score: Mengevaluasi kinerja model.\n",
        "\n",
        "matplotlib.pyplot: Membuat grafik (jika diperlukan).\n",
        "\n",
        "joblib: Menyimpan/memuat model.\n",
        "\n",
        "os: Mengelola file dan direktori."
      ],
      "metadata": {
        "id": "K2YAqAKn6ng0"
      }
    },
    {
      "cell_type": "markdown",
      "source": [
        "## LOAD DATA"
      ],
      "metadata": {
        "id": "06MPd1Eh55zm"
      }
    },
    {
      "cell_type": "code",
      "source": [
        "file_path = 'dataset_risiko_do_mahasiswa1500.csv'\n",
        "df = pd.read_csv(file_path)\n",
        "df.head()"
      ],
      "metadata": {
        "id": "-uMTBx0WzAlu",
        "colab": {
          "base_uri": "https://localhost:8080/",
          "height": 206
        },
        "outputId": "45e856f9-18df-4d90-df2f-8e4fb1f2ad21"
      },
      "execution_count": 131,
      "outputs": [
        {
          "output_type": "execute_result",
          "data": {
            "text/plain": [
              "      ID  IPK_Sem1  IPK_Sem2  IPK_Sem3  IPK_Sem4  Kehadiran_Rata  \\\n",
              "0  M0001      3.05      2.85      2.59      2.26            79.7   \n",
              "1  M0002      2.73      2.69      2.68      2.49            75.0   \n",
              "2  M0003      3.12      2.88      2.89      2.61            78.3   \n",
              "3  M0004      3.56      3.47      3.61      3.45            87.1   \n",
              "4  M0005      2.68      2.11      1.70      1.64            92.8   \n",
              "\n",
              "   Remedial_Total  Aktivitas_Online Pekerjaan  Jam_Kerja_Mingguan  \\\n",
              "0               1                 8     Tidak                   0   \n",
              "1               0                16     Tidak                   0   \n",
              "2               0                 6     Tidak                   0   \n",
              "3               1                11     Tidak                   0   \n",
              "4               2                11     Tidak                   0   \n",
              "\n",
              "   Pendapatan_OrangTua  Tanggungan_Keluarga Risiko_DO  \n",
              "0                  8.4                    6     Tidak  \n",
              "1                  6.2                    7     Tidak  \n",
              "2                  6.1                   10     Tidak  \n",
              "3                  7.3                    8     Tidak  \n",
              "4                  6.3                    9     Tidak  "
            ],
            "text/html": [
              "\n",
              "  <div id=\"df-0ff00b33-5576-4cea-b29b-fa7b4422a253\" class=\"colab-df-container\">\n",
              "    <div>\n",
              "<style scoped>\n",
              "    .dataframe tbody tr th:only-of-type {\n",
              "        vertical-align: middle;\n",
              "    }\n",
              "\n",
              "    .dataframe tbody tr th {\n",
              "        vertical-align: top;\n",
              "    }\n",
              "\n",
              "    .dataframe thead th {\n",
              "        text-align: right;\n",
              "    }\n",
              "</style>\n",
              "<table border=\"1\" class=\"dataframe\">\n",
              "  <thead>\n",
              "    <tr style=\"text-align: right;\">\n",
              "      <th></th>\n",
              "      <th>ID</th>\n",
              "      <th>IPK_Sem1</th>\n",
              "      <th>IPK_Sem2</th>\n",
              "      <th>IPK_Sem3</th>\n",
              "      <th>IPK_Sem4</th>\n",
              "      <th>Kehadiran_Rata</th>\n",
              "      <th>Remedial_Total</th>\n",
              "      <th>Aktivitas_Online</th>\n",
              "      <th>Pekerjaan</th>\n",
              "      <th>Jam_Kerja_Mingguan</th>\n",
              "      <th>Pendapatan_OrangTua</th>\n",
              "      <th>Tanggungan_Keluarga</th>\n",
              "      <th>Risiko_DO</th>\n",
              "    </tr>\n",
              "  </thead>\n",
              "  <tbody>\n",
              "    <tr>\n",
              "      <th>0</th>\n",
              "      <td>M0001</td>\n",
              "      <td>3.05</td>\n",
              "      <td>2.85</td>\n",
              "      <td>2.59</td>\n",
              "      <td>2.26</td>\n",
              "      <td>79.7</td>\n",
              "      <td>1</td>\n",
              "      <td>8</td>\n",
              "      <td>Tidak</td>\n",
              "      <td>0</td>\n",
              "      <td>8.4</td>\n",
              "      <td>6</td>\n",
              "      <td>Tidak</td>\n",
              "    </tr>\n",
              "    <tr>\n",
              "      <th>1</th>\n",
              "      <td>M0002</td>\n",
              "      <td>2.73</td>\n",
              "      <td>2.69</td>\n",
              "      <td>2.68</td>\n",
              "      <td>2.49</td>\n",
              "      <td>75.0</td>\n",
              "      <td>0</td>\n",
              "      <td>16</td>\n",
              "      <td>Tidak</td>\n",
              "      <td>0</td>\n",
              "      <td>6.2</td>\n",
              "      <td>7</td>\n",
              "      <td>Tidak</td>\n",
              "    </tr>\n",
              "    <tr>\n",
              "      <th>2</th>\n",
              "      <td>M0003</td>\n",
              "      <td>3.12</td>\n",
              "      <td>2.88</td>\n",
              "      <td>2.89</td>\n",
              "      <td>2.61</td>\n",
              "      <td>78.3</td>\n",
              "      <td>0</td>\n",
              "      <td>6</td>\n",
              "      <td>Tidak</td>\n",
              "      <td>0</td>\n",
              "      <td>6.1</td>\n",
              "      <td>10</td>\n",
              "      <td>Tidak</td>\n",
              "    </tr>\n",
              "    <tr>\n",
              "      <th>3</th>\n",
              "      <td>M0004</td>\n",
              "      <td>3.56</td>\n",
              "      <td>3.47</td>\n",
              "      <td>3.61</td>\n",
              "      <td>3.45</td>\n",
              "      <td>87.1</td>\n",
              "      <td>1</td>\n",
              "      <td>11</td>\n",
              "      <td>Tidak</td>\n",
              "      <td>0</td>\n",
              "      <td>7.3</td>\n",
              "      <td>8</td>\n",
              "      <td>Tidak</td>\n",
              "    </tr>\n",
              "    <tr>\n",
              "      <th>4</th>\n",
              "      <td>M0005</td>\n",
              "      <td>2.68</td>\n",
              "      <td>2.11</td>\n",
              "      <td>1.70</td>\n",
              "      <td>1.64</td>\n",
              "      <td>92.8</td>\n",
              "      <td>2</td>\n",
              "      <td>11</td>\n",
              "      <td>Tidak</td>\n",
              "      <td>0</td>\n",
              "      <td>6.3</td>\n",
              "      <td>9</td>\n",
              "      <td>Tidak</td>\n",
              "    </tr>\n",
              "  </tbody>\n",
              "</table>\n",
              "</div>\n",
              "    <div class=\"colab-df-buttons\">\n",
              "\n",
              "  <div class=\"colab-df-container\">\n",
              "    <button class=\"colab-df-convert\" onclick=\"convertToInteractive('df-0ff00b33-5576-4cea-b29b-fa7b4422a253')\"\n",
              "            title=\"Convert this dataframe to an interactive table.\"\n",
              "            style=\"display:none;\">\n",
              "\n",
              "  <svg xmlns=\"http://www.w3.org/2000/svg\" height=\"24px\" viewBox=\"0 -960 960 960\">\n",
              "    <path d=\"M120-120v-720h720v720H120Zm60-500h600v-160H180v160Zm220 220h160v-160H400v160Zm0 220h160v-160H400v160ZM180-400h160v-160H180v160Zm440 0h160v-160H620v160ZM180-180h160v-160H180v160Zm440 0h160v-160H620v160Z\"/>\n",
              "  </svg>\n",
              "    </button>\n",
              "\n",
              "  <style>\n",
              "    .colab-df-container {\n",
              "      display:flex;\n",
              "      gap: 12px;\n",
              "    }\n",
              "\n",
              "    .colab-df-convert {\n",
              "      background-color: #E8F0FE;\n",
              "      border: none;\n",
              "      border-radius: 50%;\n",
              "      cursor: pointer;\n",
              "      display: none;\n",
              "      fill: #1967D2;\n",
              "      height: 32px;\n",
              "      padding: 0 0 0 0;\n",
              "      width: 32px;\n",
              "    }\n",
              "\n",
              "    .colab-df-convert:hover {\n",
              "      background-color: #E2EBFA;\n",
              "      box-shadow: 0px 1px 2px rgba(60, 64, 67, 0.3), 0px 1px 3px 1px rgba(60, 64, 67, 0.15);\n",
              "      fill: #174EA6;\n",
              "    }\n",
              "\n",
              "    .colab-df-buttons div {\n",
              "      margin-bottom: 4px;\n",
              "    }\n",
              "\n",
              "    [theme=dark] .colab-df-convert {\n",
              "      background-color: #3B4455;\n",
              "      fill: #D2E3FC;\n",
              "    }\n",
              "\n",
              "    [theme=dark] .colab-df-convert:hover {\n",
              "      background-color: #434B5C;\n",
              "      box-shadow: 0px 1px 3px 1px rgba(0, 0, 0, 0.15);\n",
              "      filter: drop-shadow(0px 1px 2px rgba(0, 0, 0, 0.3));\n",
              "      fill: #FFFFFF;\n",
              "    }\n",
              "  </style>\n",
              "\n",
              "    <script>\n",
              "      const buttonEl =\n",
              "        document.querySelector('#df-0ff00b33-5576-4cea-b29b-fa7b4422a253 button.colab-df-convert');\n",
              "      buttonEl.style.display =\n",
              "        google.colab.kernel.accessAllowed ? 'block' : 'none';\n",
              "\n",
              "      async function convertToInteractive(key) {\n",
              "        const element = document.querySelector('#df-0ff00b33-5576-4cea-b29b-fa7b4422a253');\n",
              "        const dataTable =\n",
              "          await google.colab.kernel.invokeFunction('convertToInteractive',\n",
              "                                                    [key], {});\n",
              "        if (!dataTable) return;\n",
              "\n",
              "        const docLinkHtml = 'Like what you see? Visit the ' +\n",
              "          '<a target=\"_blank\" href=https://colab.research.google.com/notebooks/data_table.ipynb>data table notebook</a>'\n",
              "          + ' to learn more about interactive tables.';\n",
              "        element.innerHTML = '';\n",
              "        dataTable['output_type'] = 'display_data';\n",
              "        await google.colab.output.renderOutput(dataTable, element);\n",
              "        const docLink = document.createElement('div');\n",
              "        docLink.innerHTML = docLinkHtml;\n",
              "        element.appendChild(docLink);\n",
              "      }\n",
              "    </script>\n",
              "  </div>\n",
              "\n",
              "\n",
              "    <div id=\"df-834ab40f-4e37-4a66-bc33-5811dc54a1bf\">\n",
              "      <button class=\"colab-df-quickchart\" onclick=\"quickchart('df-834ab40f-4e37-4a66-bc33-5811dc54a1bf')\"\n",
              "                title=\"Suggest charts\"\n",
              "                style=\"display:none;\">\n",
              "\n",
              "<svg xmlns=\"http://www.w3.org/2000/svg\" height=\"24px\"viewBox=\"0 0 24 24\"\n",
              "     width=\"24px\">\n",
              "    <g>\n",
              "        <path d=\"M19 3H5c-1.1 0-2 .9-2 2v14c0 1.1.9 2 2 2h14c1.1 0 2-.9 2-2V5c0-1.1-.9-2-2-2zM9 17H7v-7h2v7zm4 0h-2V7h2v10zm4 0h-2v-4h2v4z\"/>\n",
              "    </g>\n",
              "</svg>\n",
              "      </button>\n",
              "\n",
              "<style>\n",
              "  .colab-df-quickchart {\n",
              "      --bg-color: #E8F0FE;\n",
              "      --fill-color: #1967D2;\n",
              "      --hover-bg-color: #E2EBFA;\n",
              "      --hover-fill-color: #174EA6;\n",
              "      --disabled-fill-color: #AAA;\n",
              "      --disabled-bg-color: #DDD;\n",
              "  }\n",
              "\n",
              "  [theme=dark] .colab-df-quickchart {\n",
              "      --bg-color: #3B4455;\n",
              "      --fill-color: #D2E3FC;\n",
              "      --hover-bg-color: #434B5C;\n",
              "      --hover-fill-color: #FFFFFF;\n",
              "      --disabled-bg-color: #3B4455;\n",
              "      --disabled-fill-color: #666;\n",
              "  }\n",
              "\n",
              "  .colab-df-quickchart {\n",
              "    background-color: var(--bg-color);\n",
              "    border: none;\n",
              "    border-radius: 50%;\n",
              "    cursor: pointer;\n",
              "    display: none;\n",
              "    fill: var(--fill-color);\n",
              "    height: 32px;\n",
              "    padding: 0;\n",
              "    width: 32px;\n",
              "  }\n",
              "\n",
              "  .colab-df-quickchart:hover {\n",
              "    background-color: var(--hover-bg-color);\n",
              "    box-shadow: 0 1px 2px rgba(60, 64, 67, 0.3), 0 1px 3px 1px rgba(60, 64, 67, 0.15);\n",
              "    fill: var(--button-hover-fill-color);\n",
              "  }\n",
              "\n",
              "  .colab-df-quickchart-complete:disabled,\n",
              "  .colab-df-quickchart-complete:disabled:hover {\n",
              "    background-color: var(--disabled-bg-color);\n",
              "    fill: var(--disabled-fill-color);\n",
              "    box-shadow: none;\n",
              "  }\n",
              "\n",
              "  .colab-df-spinner {\n",
              "    border: 2px solid var(--fill-color);\n",
              "    border-color: transparent;\n",
              "    border-bottom-color: var(--fill-color);\n",
              "    animation:\n",
              "      spin 1s steps(1) infinite;\n",
              "  }\n",
              "\n",
              "  @keyframes spin {\n",
              "    0% {\n",
              "      border-color: transparent;\n",
              "      border-bottom-color: var(--fill-color);\n",
              "      border-left-color: var(--fill-color);\n",
              "    }\n",
              "    20% {\n",
              "      border-color: transparent;\n",
              "      border-left-color: var(--fill-color);\n",
              "      border-top-color: var(--fill-color);\n",
              "    }\n",
              "    30% {\n",
              "      border-color: transparent;\n",
              "      border-left-color: var(--fill-color);\n",
              "      border-top-color: var(--fill-color);\n",
              "      border-right-color: var(--fill-color);\n",
              "    }\n",
              "    40% {\n",
              "      border-color: transparent;\n",
              "      border-right-color: var(--fill-color);\n",
              "      border-top-color: var(--fill-color);\n",
              "    }\n",
              "    60% {\n",
              "      border-color: transparent;\n",
              "      border-right-color: var(--fill-color);\n",
              "    }\n",
              "    80% {\n",
              "      border-color: transparent;\n",
              "      border-right-color: var(--fill-color);\n",
              "      border-bottom-color: var(--fill-color);\n",
              "    }\n",
              "    90% {\n",
              "      border-color: transparent;\n",
              "      border-bottom-color: var(--fill-color);\n",
              "    }\n",
              "  }\n",
              "</style>\n",
              "\n",
              "      <script>\n",
              "        async function quickchart(key) {\n",
              "          const quickchartButtonEl =\n",
              "            document.querySelector('#' + key + ' button');\n",
              "          quickchartButtonEl.disabled = true;  // To prevent multiple clicks.\n",
              "          quickchartButtonEl.classList.add('colab-df-spinner');\n",
              "          try {\n",
              "            const charts = await google.colab.kernel.invokeFunction(\n",
              "                'suggestCharts', [key], {});\n",
              "          } catch (error) {\n",
              "            console.error('Error during call to suggestCharts:', error);\n",
              "          }\n",
              "          quickchartButtonEl.classList.remove('colab-df-spinner');\n",
              "          quickchartButtonEl.classList.add('colab-df-quickchart-complete');\n",
              "        }\n",
              "        (() => {\n",
              "          let quickchartButtonEl =\n",
              "            document.querySelector('#df-834ab40f-4e37-4a66-bc33-5811dc54a1bf button');\n",
              "          quickchartButtonEl.style.display =\n",
              "            google.colab.kernel.accessAllowed ? 'block' : 'none';\n",
              "        })();\n",
              "      </script>\n",
              "    </div>\n",
              "\n",
              "    </div>\n",
              "  </div>\n"
            ],
            "application/vnd.google.colaboratory.intrinsic+json": {
              "type": "dataframe",
              "variable_name": "df",
              "summary": "{\n  \"name\": \"df\",\n  \"rows\": 1500,\n  \"fields\": [\n    {\n      \"column\": \"ID\",\n      \"properties\": {\n        \"dtype\": \"string\",\n        \"num_unique_values\": 1500,\n        \"samples\": [\n          \"M1117\",\n          \"M1369\",\n          \"M0423\"\n        ],\n        \"semantic_type\": \"\",\n        \"description\": \"\"\n      }\n    },\n    {\n      \"column\": \"IPK_Sem1\",\n      \"properties\": {\n        \"dtype\": \"number\",\n        \"std\": 0.49018492972799926,\n        \"min\": 1.5,\n        \"max\": 4.0,\n        \"num_unique_values\": 224,\n        \"samples\": [\n          2.92,\n          4.0,\n          2.58\n        ],\n        \"semantic_type\": \"\",\n        \"description\": \"\"\n      }\n    },\n    {\n      \"column\": \"IPK_Sem2\",\n      \"properties\": {\n        \"dtype\": \"number\",\n        \"std\": 0.5633756331479968,\n        \"min\": 1.5,\n        \"max\": 4.0,\n        \"num_unique_values\": 244,\n        \"samples\": [\n          2.76,\n          3.59,\n          3.09\n        ],\n        \"semantic_type\": \"\",\n        \"description\": \"\"\n      }\n    },\n    {\n      \"column\": \"IPK_Sem3\",\n      \"properties\": {\n        \"dtype\": \"number\",\n        \"std\": 0.6143604732969512,\n        \"min\": 1.5,\n        \"max\": 4.0,\n        \"num_unique_values\": 244,\n        \"samples\": [\n          2.82,\n          2.78,\n          1.77\n        ],\n        \"semantic_type\": \"\",\n        \"description\": \"\"\n      }\n    },\n    {\n      \"column\": \"IPK_Sem4\",\n      \"properties\": {\n        \"dtype\": \"number\",\n        \"std\": 0.6557748742869417,\n        \"min\": 1.5,\n        \"max\": 4.0,\n        \"num_unique_values\": 245,\n        \"samples\": [\n          2.85,\n          2.68,\n          3.19\n        ],\n        \"semantic_type\": \"\",\n        \"description\": \"\"\n      }\n    },\n    {\n      \"column\": \"Kehadiran_Rata\",\n      \"properties\": {\n        \"dtype\": \"number\",\n        \"std\": 9.736844814310148,\n        \"min\": 50.0,\n        \"max\": 100.0,\n        \"num_unique_values\": 391,\n        \"samples\": [\n          90.3,\n          73.7,\n          76.7\n        ],\n        \"semantic_type\": \"\",\n        \"description\": \"\"\n      }\n    },\n    {\n      \"column\": \"Remedial_Total\",\n      \"properties\": {\n        \"dtype\": \"number\",\n        \"std\": 1,\n        \"min\": 0,\n        \"max\": 6,\n        \"num_unique_values\": 7,\n        \"samples\": [\n          1,\n          0,\n          4\n        ],\n        \"semantic_type\": \"\",\n        \"description\": \"\"\n      }\n    },\n    {\n      \"column\": \"Aktivitas_Online\",\n      \"properties\": {\n        \"dtype\": \"number\",\n        \"std\": 3,\n        \"min\": 2,\n        \"max\": 20,\n        \"num_unique_values\": 19,\n        \"samples\": [\n          8,\n          9,\n          15\n        ],\n        \"semantic_type\": \"\",\n        \"description\": \"\"\n      }\n    },\n    {\n      \"column\": \"Pekerjaan\",\n      \"properties\": {\n        \"dtype\": \"category\",\n        \"num_unique_values\": 2,\n        \"samples\": [\n          \"Ya\",\n          \"Tidak\"\n        ],\n        \"semantic_type\": \"\",\n        \"description\": \"\"\n      }\n    },\n    {\n      \"column\": \"Jam_Kerja_Mingguan\",\n      \"properties\": {\n        \"dtype\": \"number\",\n        \"std\": 12,\n        \"min\": 0,\n        \"max\": 40,\n        \"num_unique_values\": 32,\n        \"samples\": [\n          35,\n          26\n        ],\n        \"semantic_type\": \"\",\n        \"description\": \"\"\n      }\n    },\n    {\n      \"column\": \"Pendapatan_OrangTua\",\n      \"properties\": {\n        \"dtype\": \"number\",\n        \"std\": 2.0143429164179745,\n        \"min\": 1.0,\n        \"max\": 13.6,\n        \"num_unique_values\": 109,\n        \"samples\": [\n          3.5,\n          9.3\n        ],\n        \"semantic_type\": \"\",\n        \"description\": \"\"\n      }\n    },\n    {\n      \"column\": \"Tanggungan_Keluarga\",\n      \"properties\": {\n        \"dtype\": \"number\",\n        \"std\": 2,\n        \"min\": 1,\n        \"max\": 10,\n        \"num_unique_values\": 10,\n        \"samples\": [\n          1,\n          7\n        ],\n        \"semantic_type\": \"\",\n        \"description\": \"\"\n      }\n    },\n    {\n      \"column\": \"Risiko_DO\",\n      \"properties\": {\n        \"dtype\": \"category\",\n        \"num_unique_values\": 2,\n        \"samples\": [\n          \"Ya\",\n          \"Tidak\"\n        ],\n        \"semantic_type\": \"\",\n        \"description\": \"\"\n      }\n    }\n  ]\n}"
            }
          },
          "metadata": {},
          "execution_count": 131
        }
      ]
    },
    {
      "cell_type": "markdown",
      "source": [
        "kode diatas digunakan untuk melakukan prosses load terhadap dataset yang akan digunakan yaitu dataset_risiko_do_mahasiswa.csv"
      ],
      "metadata": {
        "id": "o4f9Rpki6o6q"
      }
    },
    {
      "cell_type": "markdown",
      "source": [
        "## PREPROCESSING"
      ],
      "metadata": {
        "id": "bQos3e6t57nF"
      }
    },
    {
      "cell_type": "code",
      "source": [
        "# Menampilkan informasi dasar dataset\n",
        "print(df.info())"
      ],
      "metadata": {
        "id": "guevg6Jb9e10",
        "outputId": "5a4d2dcc-333c-4dfb-9357-b115ce4bd499",
        "colab": {
          "base_uri": "https://localhost:8080/"
        }
      },
      "execution_count": 132,
      "outputs": [
        {
          "output_type": "stream",
          "name": "stdout",
          "text": [
            "<class 'pandas.core.frame.DataFrame'>\n",
            "RangeIndex: 1500 entries, 0 to 1499\n",
            "Data columns (total 13 columns):\n",
            " #   Column               Non-Null Count  Dtype  \n",
            "---  ------               --------------  -----  \n",
            " 0   ID                   1500 non-null   object \n",
            " 1   IPK_Sem1             1500 non-null   float64\n",
            " 2   IPK_Sem2             1500 non-null   float64\n",
            " 3   IPK_Sem3             1500 non-null   float64\n",
            " 4   IPK_Sem4             1500 non-null   float64\n",
            " 5   Kehadiran_Rata       1500 non-null   float64\n",
            " 6   Remedial_Total       1500 non-null   int64  \n",
            " 7   Aktivitas_Online     1500 non-null   int64  \n",
            " 8   Pekerjaan            1500 non-null   object \n",
            " 9   Jam_Kerja_Mingguan   1500 non-null   int64  \n",
            " 10  Pendapatan_OrangTua  1500 non-null   float64\n",
            " 11  Tanggungan_Keluarga  1500 non-null   int64  \n",
            " 12  Risiko_DO            1500 non-null   object \n",
            "dtypes: float64(6), int64(4), object(3)\n",
            "memory usage: 152.5+ KB\n",
            "None\n"
          ]
        }
      ]
    },
    {
      "cell_type": "markdown",
      "source": [
        "kode diatas digunakan untuk menampilkan info dari dataset yang digunakan"
      ],
      "metadata": {
        "id": "9GkFu9dyf3hK"
      }
    },
    {
      "cell_type": "code",
      "source": [
        "# Menampilkan statistik deskriptif dataset\n",
        "print(df.describe())"
      ],
      "metadata": {
        "id": "rNUQCgMF9_WH",
        "outputId": "55588703-bcd7-4ce3-a6f8-61d1d24ccd03",
        "colab": {
          "base_uri": "https://localhost:8080/"
        }
      },
      "execution_count": 133,
      "outputs": [
        {
          "output_type": "stream",
          "name": "stdout",
          "text": [
            "          IPK_Sem1     IPK_Sem2     IPK_Sem3     IPK_Sem4  Kehadiran_Rata  \\\n",
            "count  1500.000000  1500.000000  1500.000000  1500.000000     1500.000000   \n",
            "mean      2.823713     2.820473     2.805607     2.798607       80.034600   \n",
            "std       0.490185     0.563376     0.614360     0.655775        9.736845   \n",
            "min       1.500000     1.500000     1.500000     1.500000       50.000000   \n",
            "25%       2.490000     2.430000     2.370000     2.320000       73.700000   \n",
            "50%       2.825000     2.820000     2.810000     2.780000       80.150000   \n",
            "75%       3.140000     3.210000     3.252500     3.300000       86.700000   \n",
            "max       4.000000     4.000000     4.000000     4.000000      100.000000   \n",
            "\n",
            "       Remedial_Total  Aktivitas_Online  Jam_Kerja_Mingguan  \\\n",
            "count     1500.000000       1500.000000         1500.000000   \n",
            "mean         1.489333         10.040667            7.542667   \n",
            "std          1.234059          3.145199           12.633656   \n",
            "min          0.000000          2.000000            0.000000   \n",
            "25%          1.000000          8.000000            0.000000   \n",
            "50%          1.000000         10.000000            0.000000   \n",
            "75%          2.000000         12.000000           15.000000   \n",
            "max          6.000000         20.000000           40.000000   \n",
            "\n",
            "       Pendapatan_OrangTua  Tanggungan_Keluarga  \n",
            "count          1500.000000          1500.000000  \n",
            "mean              6.049000             5.646667  \n",
            "std               2.014343             2.880629  \n",
            "min               1.000000             1.000000  \n",
            "25%               4.700000             3.000000  \n",
            "50%               6.000000             6.000000  \n",
            "75%               7.400000             8.000000  \n",
            "max              13.600000            10.000000  \n"
          ]
        }
      ]
    },
    {
      "cell_type": "markdown",
      "source": [
        "kode diatas digunakan untuk Menampilkan statistik deskriptif dari dataset yang digunakan"
      ],
      "metadata": {
        "id": "nWWot5-kgCxG"
      }
    },
    {
      "cell_type": "code",
      "source": [
        "# Mengecek missing value\n",
        "print(df.isnull().sum())"
      ],
      "metadata": {
        "id": "R_6ATtXb-EmT",
        "outputId": "13e067c6-6aa5-41fb-da64-f167c8f3a984",
        "colab": {
          "base_uri": "https://localhost:8080/"
        }
      },
      "execution_count": 134,
      "outputs": [
        {
          "output_type": "stream",
          "name": "stdout",
          "text": [
            "ID                     0\n",
            "IPK_Sem1               0\n",
            "IPK_Sem2               0\n",
            "IPK_Sem3               0\n",
            "IPK_Sem4               0\n",
            "Kehadiran_Rata         0\n",
            "Remedial_Total         0\n",
            "Aktivitas_Online       0\n",
            "Pekerjaan              0\n",
            "Jam_Kerja_Mingguan     0\n",
            "Pendapatan_OrangTua    0\n",
            "Tanggungan_Keluarga    0\n",
            "Risiko_DO              0\n",
            "dtype: int64\n"
          ]
        }
      ]
    },
    {
      "cell_type": "markdown",
      "source": [
        "kode diatas digunakan untuk melihat apakah ada kolom yang didalamnya terdapat nilai yang kosong atau null"
      ],
      "metadata": {
        "id": "4tONwFiXgPqe"
      }
    },
    {
      "cell_type": "code",
      "source": [
        "# Mengecek Data Duplikat\n",
        "print(df.duplicated().sum())"
      ],
      "metadata": {
        "id": "8nW1nMtv-H2Y",
        "outputId": "c16eb041-01c0-4465-cddb-4d1e0a625bb9",
        "colab": {
          "base_uri": "https://localhost:8080/"
        }
      },
      "execution_count": 135,
      "outputs": [
        {
          "output_type": "stream",
          "name": "stdout",
          "text": [
            "0\n"
          ]
        }
      ]
    },
    {
      "cell_type": "markdown",
      "source": [
        "kode diatas digunakan untuk mengecek apakah terdapat data duplicat pada dataset yang digunakan. output yang keluar akan menunjukan seberapa banyak data yang duplikat"
      ],
      "metadata": {
        "id": "Hp_MSf6sxwGp"
      }
    },
    {
      "cell_type": "markdown",
      "source": [
        "kode diatas digunakan untuk mengubah nilai yang ada pada dataset, tepatnya pada kolom yang memiliki nilai ya atau tidak. nilai tersebut akan di ubah menjadi 0 untuk tidak dan 1 untuk ya. hal ini digunakan untuk memudahkan model membaca data yang di berikan sehingga membantu proses pelatihan atau klasifikasi pada dataset yang digunakan."
      ],
      "metadata": {
        "id": "J2Ffl36lyAas"
      }
    },
    {
      "cell_type": "code",
      "source": [
        "# Definisikan kolom target\n",
        "target_column = 'Risiko_DO'\n",
        "print(f\"🎯 Kolom target yang digunakan: '{target_column}'\")"
      ],
      "metadata": {
        "colab": {
          "base_uri": "https://localhost:8080/"
        },
        "id": "prAiP5nXz9Ln",
        "outputId": "0f30908e-b772-4d0c-bdcb-6dddc510f27e"
      },
      "execution_count": 136,
      "outputs": [
        {
          "output_type": "stream",
          "name": "stdout",
          "text": [
            "🎯 Kolom target yang digunakan: 'Risiko_DO'\n"
          ]
        }
      ]
    },
    {
      "cell_type": "markdown",
      "source": [
        "Kode tersebut merupakan langkah krusial dalam tahap persiapan data, di mana Anda secara eksplisit memberi tahu program kolom mana yang menjadi tujuan atau target prediksi. Dengan menetapkan target_column = 'Risiko_DO', Anda mendefinisikan bahwa semua kolom lain akan digunakan untuk mencoba memprediksi nilai di kolom 'Risiko_DO' ini. Pernyataan print setelahnya berfungsi sebagai konfirmasi sederhana untuk memastikan bahwa kolom yang benar telah dipilih sebagai target sebelum melanjutkan ke proses selanjutnya."
      ],
      "metadata": {
        "id": "Fme6Tx0Y6uOa"
      }
    },
    {
      "cell_type": "code",
      "source": [
        "sns.countplot(x='Risiko_DO', data=df)\n",
        "plt.title('Distribusi Label DO')\n",
        "plt.show()"
      ],
      "metadata": {
        "colab": {
          "base_uri": "https://localhost:8080/",
          "height": 472
        },
        "id": "izmowoywlf1y",
        "outputId": "3acbc9f1-6633-4bfe-c030-3815549957fe"
      },
      "execution_count": 137,
      "outputs": [
        {
          "output_type": "display_data",
          "data": {
            "text/plain": [
              "<Figure size 640x480 with 1 Axes>"
            ],
            "image/png": "[encoded data removed]"
          },
          "metadata": {}
        }
      ]
    },
    {
      "cell_type": "code",
      "source": [
        "# Pisahkan fitur (X) dan target (y)\n",
        "# Hapus kolom 'ID' karena tidak relevan untuk prediksi\n",
        "X = df.drop([target_column, 'ID'], axis=1)\n",
        "y = df[target_column]"
      ],
      "metadata": {
        "id": "_U-h9av_0DhV"
      },
      "execution_count": 138,
      "outputs": []
    },
    {
      "cell_type": "markdown",
      "source": [
        "Kode ini melakukan langkah fundamental dalam persiapan data machine learning dengan memecah dataset menjadi dua komponen utama. Variabel X dibuat sebagai himpunan fitur, yang berisi semua kolom dari data asli yang akan digunakan sebagai input untuk prediksi, namun dengan membuang kolom target ('Risiko_DO') dan kolom identitas ('ID') yang tidak relevan. Sementara itu, variabel y secara spesifik diisolasi untuk menampung data target, yaitu kolom 'Risiko_DO' yang nilainya ingin kita prediksi. Pemisahan ini esensial agar kita bisa melatih model untuk mempelajari pola dari X guna menebak hasil di y."
      ],
      "metadata": {
        "id": "aUtTci2y6zVO"
      }
    },
    {
      "cell_type": "code",
      "source": [
        "# Encoding: Mengubah semua kolom kategorikal (tipe 'object') menjadi numerik\n",
        "# pd.get_dummies() secara otomatis mengubah kolom 'Pekerjaan' menjadi 'Pekerjaan_Ya' (0 atau 1)\n",
        "print(\"\\n🔄 Mengubah data kategorikal menjadi numerik (One-Hot Encoding)...\")\n",
        "X_encoded = pd.get_dummies(X, drop_first=True)\n",
        "print(\"Kolom setelah encoding:\", X_encoded.columns.tolist())"
      ],
      "metadata": {
        "colab": {
          "base_uri": "https://localhost:8080/"
        },
        "id": "SVzYsS0Q0EX8",
        "outputId": "915e0d6f-09ee-4bc1-a831-fcdeae1f2f33"
      },
      "execution_count": 139,
      "outputs": [
        {
          "output_type": "stream",
          "name": "stdout",
          "text": [
            "\n",
            "🔄 Mengubah data kategorikal menjadi numerik (One-Hot Encoding)...\n",
            "Kolom setelah encoding: ['IPK_Sem1', 'IPK_Sem2', 'IPK_Sem3', 'IPK_Sem4', 'Kehadiran_Rata', 'Remedial_Total', 'Aktivitas_Online', 'Jam_Kerja_Mingguan', 'Pendapatan_OrangTua', 'Tanggungan_Keluarga', 'Pekerjaan_Ya']\n"
          ]
        }
      ]
    },
    {
      "cell_type": "markdown",
      "source": [
        "Kode ini melakukan langkah encoding, yaitu mengubah semua kolom yang berisi data non-numerik (seperti teks) di dalam himpunan fitur X menjadi format angka yang dapat dipahami oleh model machine learning. Secara spesifik, ia menggunakan fungsi pd.get_dummies untuk melakukan one-hot encoding pada kolom 'Pekerjaan'. Proses ini secara efektif mengubah kolom 'Pekerjaan' menjadi kolom baru bernama Pekerjaan_Ya, di mana nilai 1 merepresentasikan 'Ya' dan 0 merepresentasikan 'Tidak'. Penggunaan drop_first=True adalah praktik standar untuk menghindari redundansi data, sehingga X_encoded yang dihasilkan kini sepenuhnya numerik dan siap untuk tahap selanjutnya."
      ],
      "metadata": {
        "id": "FAPUBuT_7NPY"
      }
    },
    {
      "cell_type": "markdown",
      "source": [],
      "metadata": {
        "id": "BDSZSRctp6V-"
      }
    },
    {
      "cell_type": "code",
      "source": [
        "import matplotlib.pyplot as plt\n",
        "import seaborn as sns\n",
        "\n",
        "\n",
        "cols = ['Kehadiran_Rata', 'Remedial_Total', 'Jam_Kerja_Mingguan', 'Aktivitas_Online']\n",
        "fig, axes = plt.subplots(2, 2, figsize=(12, 10))\n",
        "axes = axes.flatten()\n",
        "\n",
        "# Loop dan plot masing-masing boxplot\n",
        "for i, col in enumerate(cols):\n",
        "    sns.boxplot(x='Risiko_DO', y=col, data=df, ax=axes[i])\n",
        "    axes[i].set_title(f'{col} vs DO')\n",
        "plt.tight_layout()\n",
        "plt.show()\n"
      ],
      "metadata": {
        "colab": {
          "base_uri": "https://localhost:8080/",
          "height": 1000
        },
        "id": "FXDzcnvPmJ5P",
        "outputId": "e4ccec5c-ff08-41a8-a09b-19209c8505c2"
      },
      "execution_count": 140,
      "outputs": [
        {
          "output_type": "display_data",
          "data": {
            "text/plain": [
              "<Figure size 1200x1000 with 4 Axes>"
            ],
            "image/png": "[encoded data removed]"
          },
          "metadata": {}
        }
      ]
    },
    {
      "cell_type": "markdown",
      "source": [
        "Kode Gambar boxplot visualisasi ini menyajikan analisis perbandingan antara empat variabel numerik terhadap variabel Risiko_DO (risiko mahasiswa mengalami drop out), menggunakan boxplot. Variabel-variabel yang dibandingkan adalah Kehadiran_Rata, Remedial_Total, Jam_Kerja_Mingguan, dan Aktivitas_Online. Setiap plot memperlihatkan distribusi nilai masing-masing variabel untuk dua kelompok: mahasiswa yang tidak berisiko drop out (Risiko_DO = 0) dan yang berisiko (Risiko_DO = 1).\n",
        "\n",
        "Pada boxplot pertama, Kehadiran_Rata menunjukkan bahwa mahasiswa yang berisiko DO cenderung memiliki tingkat kehadiran yang sedikit lebih rendah dibandingkan mereka yang tidak berisiko. Meskipun median kehadiran kedua kelompok terlihat hampir sama, rentang nilai dan jumlah outlier lebih besar pada kelompok tidak berisiko, menandakan variasi lebih besar dalam kehadiran mereka.\n",
        "\n",
        "pada boxplot kedua memperlihatkan Remedial_Total, yaitu jumlah remedial yang diikuti mahasiswa. Terlihat bahwa mahasiswa yang berisiko DO memiliki median jumlah remedial yang lebih tinggi daripada yang tidak berisiko. Ini menunjukkan bahwa seringnya mengikuti remedial bisa menjadi indikator risiko DO.\n",
        "\n",
        "Pada boxplot ketiga, Jam_Kerja_Mingguan tampak jauh lebih tinggi pada kelompok yang berisiko DO. Median dan rentang distribusi lebih besar pada kelompok ini, yang menunjukkan bahwa semakin banyak waktu yang dihabiskan untuk bekerja, semakin tinggi pula risiko mahasiswa mengalami drop out.\n",
        "\n",
        "Terakhir, boxplot keempat menunjukkan distribusi Aktivitas_Online. Tidak terlihat perbedaan yang signifikan antara dua kelompok dalam hal aktivitas online. Median dan interkuartil range (IQR) keduanya relatif sama, menandakan bahwa aktivitas online mungkin tidak terlalu berkorelasi dengan risiko DO.\n",
        "\n",
        "Secara keseluruhan, visualisasi ini menunjukkan bahwa variabel Remedial_Total, Jam_Kerja_Mingguan, dan Kehadiran_Rata memiliki pola distribusi yang cukup membedakan antara mahasiswa yang berisiko dan tidak berisiko drop out, sementara Aktivitas_Online tampak kurang berpengaruh. Insight ini dapat digunakan untuk memfokuskan intervensi pada faktor-faktor yang lebih berdampak terhadap risiko DO."
      ],
      "metadata": {
        "id": "U1swg7JSq343"
      }
    },
    {
      "cell_type": "code",
      "source": [
        "import matplotlib.pyplot as plt\n",
        "import seaborn as sns\n",
        "\n",
        "\n",
        "cols = ['Pekerjaan', 'Pendapatan_OrangTua']\n",
        "fig, axes = plt.subplots(1, 2, figsize=(14, 6))\n",
        "\n",
        "for i, col in enumerate(cols):\n",
        "    sns.countplot(x=col, hue='Risiko_DO', data=df, ax=axes[i])\n",
        "    axes[i].set_title(f'{col} dan Risiko DO')\n",
        "    axes[i].tick_params(axis='x', rotation=45)\n",
        "plt.tight_layout()\n",
        "plt.show()\n"
      ],
      "metadata": {
        "colab": {
          "base_uri": "https://localhost:8080/",
          "height": 607
        },
        "id": "VRyl90TVm4OH",
        "outputId": "b1366a6f-bf17-465e-d0f0-f7f73222c91c"
      },
      "execution_count": 141,
      "outputs": [
        {
          "output_type": "display_data",
          "data": {
            "text/plain": [
              "<Figure size 1400x600 with 2 Axes>"
            ],
            "image/png": "[encoded data removed]"
          },
          "metadata": {}
        }
      ]
    },
    {
      "cell_type": "markdown",
      "source": [
        "Kode ini menunjukkan Gambar visualisasi tersebut hubungan antara dua variabel, yaitu Pekerjaan dan Pendapatan_OrangTua, terhadap variabel Risiko_DO (kemungkinan mahasiswa mengalami drop out). Pada grafik pertama, terlihat bahwa mayoritas mahasiswa berasal dari kategori Pekerjaan bernilai 0, dengan sebagian besar dari mereka tidak berisiko mengalami drop out (Risiko_DO = 0). Namun, pada kategori Pekerjaan bernilai 1, meskipun jumlahnya lebih sedikit, terdapat proporsi yang lebih tinggi dari mahasiswa yang berisiko mengalami drop out (Risiko_DO = 1). Hal ini mengindikasikan bahwa status pekerjaan dapat mempengaruhi risiko DO. Sementara itu, grafik kedua memperlihatkan distribusi Pendapatan_OrangTua terhadap Risiko_DO. Sebagian besar mahasiswa berasal dari keluarga dengan pendapatan menengah ke bawah, dan terlihat bahwa mahasiswa yang berasal dari keluarga dengan pendapatan rendah cenderung memiliki risiko DO yang lebih tinggi. Frekuensi mahasiswa dengan risiko DO menurun seiring meningkatnya pendapatan orang tua. Dari kedua grafik tersebut, dapat disimpulkan bahwa status pekerjaan dan tingkat pendapatan orang tua memiliki keterkaitan dengan risiko mahasiswa mengalami drop out, di mana kondisi sosial ekonomi yang kurang mendukung berpotensi meningkatkan risiko tersebut."
      ],
      "metadata": {
        "id": "bSh3EE2jp47a"
      }
    },
    {
      "cell_type": "code",
      "source": [
        "# Tampilkan kolom-kolom dengan nilai unik \"Ya\" atau \"Tidak\"\n",
        "for col in df.columns:\n",
        "    if df[col].dropna().isin(['Ya', 'Tidak']).all():\n",
        "        df[col] = df[col].map({'Ya': 1, 'Tidak': 0})\n",
        "\n",
        "# Simpan dataset yang telah diproses\n",
        "df.to_csv(\"dataset_risiko_do_mahasiswa_encoded.csv\", index=False)\n",
        "\n",
        "print(\"✅ Preprocessing selesai. Data disimpan ke 'dataset_risiko_do_mahasiswa_encoded.csv'.\")\n"
      ],
      "metadata": {
        "colab": {
          "base_uri": "https://localhost:8080/"
        },
        "id": "v-NV4LNUciaF",
        "outputId": "a16531da-80dc-47a2-9cc9-2750b3708ce5"
      },
      "execution_count": 142,
      "outputs": [
        {
          "output_type": "stream",
          "name": "stdout",
          "text": [
            "✅ Preprocessing selesai. Data disimpan ke 'dataset_risiko_do_mahasiswa_encoded.csv'.\n"
          ]
        }
      ]
    },
    {
      "cell_type": "code",
      "source": [
        "df.describe(include='all')\n"
      ],
      "metadata": {
        "colab": {
          "base_uri": "https://localhost:8080/",
          "height": 414
        },
        "id": "ruJ1o23rl9lS",
        "outputId": "27acddeb-3343-4a7a-a54d-52749dcd572e"
      },
      "execution_count": 143,
      "outputs": [
        {
          "output_type": "execute_result",
          "data": {
            "text/plain": [
              "           ID     IPK_Sem1     IPK_Sem2     IPK_Sem3     IPK_Sem4  \\\n",
              "count    1500  1500.000000  1500.000000  1500.000000  1500.000000   \n",
              "unique   1500          NaN          NaN          NaN          NaN   \n",
              "top     M1500          NaN          NaN          NaN          NaN   \n",
              "freq        1          NaN          NaN          NaN          NaN   \n",
              "mean      NaN     2.823713     2.820473     2.805607     2.798607   \n",
              "std       NaN     0.490185     0.563376     0.614360     0.655775   \n",
              "min       NaN     1.500000     1.500000     1.500000     1.500000   \n",
              "25%       NaN     2.490000     2.430000     2.370000     2.320000   \n",
              "50%       NaN     2.825000     2.820000     2.810000     2.780000   \n",
              "75%       NaN     3.140000     3.210000     3.252500     3.300000   \n",
              "max       NaN     4.000000     4.000000     4.000000     4.000000   \n",
              "\n",
              "        Kehadiran_Rata  Remedial_Total  Aktivitas_Online    Pekerjaan  \\\n",
              "count      1500.000000     1500.000000       1500.000000  1500.000000   \n",
              "unique             NaN             NaN               NaN          NaN   \n",
              "top                NaN             NaN               NaN          NaN   \n",
              "freq               NaN             NaN               NaN          NaN   \n",
              "mean         80.034600        1.489333         10.040667     0.293333   \n",
              "std           9.736845        1.234059          3.145199     0.455442   \n",
              "min          50.000000        0.000000          2.000000     0.000000   \n",
              "25%          73.700000        1.000000          8.000000     0.000000   \n",
              "50%          80.150000        1.000000         10.000000     0.000000   \n",
              "75%          86.700000        2.000000         12.000000     1.000000   \n",
              "max         100.000000        6.000000         20.000000     1.000000   \n",
              "\n",
              "        Jam_Kerja_Mingguan  Pendapatan_OrangTua  Tanggungan_Keluarga  \\\n",
              "count          1500.000000          1500.000000          1500.000000   \n",
              "unique                 NaN                  NaN                  NaN   \n",
              "top                    NaN                  NaN                  NaN   \n",
              "freq                   NaN                  NaN                  NaN   \n",
              "mean              7.542667             6.049000             5.646667   \n",
              "std              12.633656             2.014343             2.880629   \n",
              "min               0.000000             1.000000             1.000000   \n",
              "25%               0.000000             4.700000             3.000000   \n",
              "50%               0.000000             6.000000             6.000000   \n",
              "75%              15.000000             7.400000             8.000000   \n",
              "max              40.000000            13.600000            10.000000   \n",
              "\n",
              "          Risiko_DO  \n",
              "count   1500.000000  \n",
              "unique          NaN  \n",
              "top             NaN  \n",
              "freq            NaN  \n",
              "mean       0.120667  \n",
              "std        0.325848  \n",
              "min        0.000000  \n",
              "25%        0.000000  \n",
              "50%        0.000000  \n",
              "75%        0.000000  \n",
              "max        1.000000  "
            ],
            "text/html": [
              "\n",
              "  <div id=\"df-b7b58beb-7796-4f33-87f1-ff773718412d\" class=\"colab-df-container\">\n",
              "    <div>\n",
              "<style scoped>\n",
              "    .dataframe tbody tr th:only-of-type {\n",
              "        vertical-align: middle;\n",
              "    }\n",
              "\n",
              "    .dataframe tbody tr th {\n",
              "        vertical-align: top;\n",
              "    }\n",
              "\n",
              "    .dataframe thead th {\n",
              "        text-align: right;\n",
              "    }\n",
              "</style>\n",
              "<table border=\"1\" class=\"dataframe\">\n",
              "  <thead>\n",
              "    <tr style=\"text-align: right;\">\n",
              "      <th></th>\n",
              "      <th>ID</th>\n",
              "      <th>IPK_Sem1</th>\n",
              "      <th>IPK_Sem2</th>\n",
              "      <th>IPK_Sem3</th>\n",
              "      <th>IPK_Sem4</th>\n",
              "      <th>Kehadiran_Rata</th>\n",
              "      <th>Remedial_Total</th>\n",
              "      <th>Aktivitas_Online</th>\n",
              "      <th>Pekerjaan</th>\n",
              "      <th>Jam_Kerja_Mingguan</th>\n",
              "      <th>Pendapatan_OrangTua</th>\n",
              "      <th>Tanggungan_Keluarga</th>\n",
              "      <th>Risiko_DO</th>\n",
              "    </tr>\n",
              "  </thead>\n",
              "  <tbody>\n",
              "    <tr>\n",
              "      <th>count</th>\n",
              "      <td>1500</td>\n",
              "      <td>1500.000000</td>\n",
              "      <td>1500.000000</td>\n",
              "      <td>1500.000000</td>\n",
              "      <td>1500.000000</td>\n",
              "      <td>1500.000000</td>\n",
              "      <td>1500.000000</td>\n",
              "      <td>1500.000000</td>\n",
              "      <td>1500.000000</td>\n",
              "      <td>1500.000000</td>\n",
              "      <td>1500.000000</td>\n",
              "      <td>1500.000000</td>\n",
              "      <td>1500.000000</td>\n",
              "    </tr>\n",
              "    <tr>\n",
              "      <th>unique</th>\n",
              "      <td>1500</td>\n",
              "      <td>NaN</td>\n",
              "      <td>NaN</td>\n",
              "      <td>NaN</td>\n",
              "      <td>NaN</td>\n",
              "      <td>NaN</td>\n",
              "      <td>NaN</td>\n",
              "      <td>NaN</td>\n",
              "      <td>NaN</td>\n",
              "      <td>NaN</td>\n",
              "      <td>NaN</td>\n",
              "      <td>NaN</td>\n",
              "      <td>NaN</td>\n",
              "    </tr>\n",
              "    <tr>\n",
              "      <th>top</th>\n",
              "      <td>M1500</td>\n",
              "      <td>NaN</td>\n",
              "      <td>NaN</td>\n",
              "      <td>NaN</td>\n",
              "      <td>NaN</td>\n",
              "      <td>NaN</td>\n",
              "      <td>NaN</td>\n",
              "      <td>NaN</td>\n",
              "      <td>NaN</td>\n",
              "      <td>NaN</td>\n",
              "      <td>NaN</td>\n",
              "      <td>NaN</td>\n",
              "      <td>NaN</td>\n",
              "    </tr>\n",
              "    <tr>\n",
              "      <th>freq</th>\n",
              "      <td>1</td>\n",
              "      <td>NaN</td>\n",
              "      <td>NaN</td>\n",
              "      <td>NaN</td>\n",
              "      <td>NaN</td>\n",
              "      <td>NaN</td>\n",
              "      <td>NaN</td>\n",
              "      <td>NaN</td>\n",
              "      <td>NaN</td>\n",
              "      <td>NaN</td>\n",
              "      <td>NaN</td>\n",
              "      <td>NaN</td>\n",
              "      <td>NaN</td>\n",
              "    </tr>\n",
              "    <tr>\n",
              "      <th>mean</th>\n",
              "      <td>NaN</td>\n",
              "      <td>2.823713</td>\n",
              "      <td>2.820473</td>\n",
              "      <td>2.805607</td>\n",
              "      <td>2.798607</td>\n",
              "      <td>80.034600</td>\n",
              "      <td>1.489333</td>\n",
              "      <td>10.040667</td>\n",
              "      <td>0.293333</td>\n",
              "      <td>7.542667</td>\n",
              "      <td>6.049000</td>\n",
              "      <td>5.646667</td>\n",
              "      <td>0.120667</td>\n",
              "    </tr>\n",
              "    <tr>\n",
              "      <th>std</th>\n",
              "      <td>NaN</td>\n",
              "      <td>0.490185</td>\n",
              "      <td>0.563376</td>\n",
              "      <td>0.614360</td>\n",
              "      <td>0.655775</td>\n",
              "      <td>9.736845</td>\n",
              "      <td>1.234059</td>\n",
              "      <td>3.145199</td>\n",
              "      <td>0.455442</td>\n",
              "      <td>12.633656</td>\n",
              "      <td>2.014343</td>\n",
              "      <td>2.880629</td>\n",
              "      <td>0.325848</td>\n",
              "    </tr>\n",
              "    <tr>\n",
              "      <th>min</th>\n",
              "      <td>NaN</td>\n",
              "      <td>1.500000</td>\n",
              "      <td>1.500000</td>\n",
              "      <td>1.500000</td>\n",
              "      <td>1.500000</td>\n",
              "      <td>50.000000</td>\n",
              "      <td>0.000000</td>\n",
              "      <td>2.000000</td>\n",
              "      <td>0.000000</td>\n",
              "      <td>0.000000</td>\n",
              "      <td>1.000000</td>\n",
              "      <td>1.000000</td>\n",
              "      <td>0.000000</td>\n",
              "    </tr>\n",
              "    <tr>\n",
              "      <th>25%</th>\n",
              "      <td>NaN</td>\n",
              "      <td>2.490000</td>\n",
              "      <td>2.430000</td>\n",
              "      <td>2.370000</td>\n",
              "      <td>2.320000</td>\n",
              "      <td>73.700000</td>\n",
              "      <td>1.000000</td>\n",
              "      <td>8.000000</td>\n",
              "      <td>0.000000</td>\n",
              "      <td>0.000000</td>\n",
              "      <td>4.700000</td>\n",
              "      <td>3.000000</td>\n",
              "      <td>0.000000</td>\n",
              "    </tr>\n",
              "    <tr>\n",
              "      <th>50%</th>\n",
              "      <td>NaN</td>\n",
              "      <td>2.825000</td>\n",
              "      <td>2.820000</td>\n",
              "      <td>2.810000</td>\n",
              "      <td>2.780000</td>\n",
              "      <td>80.150000</td>\n",
              "      <td>1.000000</td>\n",
              "      <td>10.000000</td>\n",
              "      <td>0.000000</td>\n",
              "      <td>0.000000</td>\n",
              "      <td>6.000000</td>\n",
              "      <td>6.000000</td>\n",
              "      <td>0.000000</td>\n",
              "    </tr>\n",
              "    <tr>\n",
              "      <th>75%</th>\n",
              "      <td>NaN</td>\n",
              "      <td>3.140000</td>\n",
              "      <td>3.210000</td>\n",
              "      <td>3.252500</td>\n",
              "      <td>3.300000</td>\n",
              "      <td>86.700000</td>\n",
              "      <td>2.000000</td>\n",
              "      <td>12.000000</td>\n",
              "      <td>1.000000</td>\n",
              "      <td>15.000000</td>\n",
              "      <td>7.400000</td>\n",
              "      <td>8.000000</td>\n",
              "      <td>0.000000</td>\n",
              "    </tr>\n",
              "    <tr>\n",
              "      <th>max</th>\n",
              "      <td>NaN</td>\n",
              "      <td>4.000000</td>\n",
              "      <td>4.000000</td>\n",
              "      <td>4.000000</td>\n",
              "      <td>4.000000</td>\n",
              "      <td>100.000000</td>\n",
              "      <td>6.000000</td>\n",
              "      <td>20.000000</td>\n",
              "      <td>1.000000</td>\n",
              "      <td>40.000000</td>\n",
              "      <td>13.600000</td>\n",
              "      <td>10.000000</td>\n",
              "      <td>1.000000</td>\n",
              "    </tr>\n",
              "  </tbody>\n",
              "</table>\n",
              "</div>\n",
              "    <div class=\"colab-df-buttons\">\n",
              "\n",
              "  <div class=\"colab-df-container\">\n",
              "    <button class=\"colab-df-convert\" onclick=\"convertToInteractive('df-b7b58beb-7796-4f33-87f1-ff773718412d')\"\n",
              "            title=\"Convert this dataframe to an interactive table.\"\n",
              "            style=\"display:none;\">\n",
              "\n",
              "  <svg xmlns=\"http://www.w3.org/2000/svg\" height=\"24px\" viewBox=\"0 -960 960 960\">\n",
              "    <path d=\"M120-120v-720h720v720H120Zm60-500h600v-160H180v160Zm220 220h160v-160H400v160Zm0 220h160v-160H400v160ZM180-400h160v-160H180v160Zm440 0h160v-160H620v160ZM180-180h160v-160H180v160Zm440 0h160v-160H620v160Z\"/>\n",
              "  </svg>\n",
              "    </button>\n",
              "\n",
              "  <style>\n",
              "    .colab-df-container {\n",
              "      display:flex;\n",
              "      gap: 12px;\n",
              "    }\n",
              "\n",
              "    .colab-df-convert {\n",
              "      background-color: #E8F0FE;\n",
              "      border: none;\n",
              "      border-radius: 50%;\n",
              "      cursor: pointer;\n",
              "      display: none;\n",
              "      fill: #1967D2;\n",
              "      height: 32px;\n",
              "      padding: 0 0 0 0;\n",
              "      width: 32px;\n",
              "    }\n",
              "\n",
              "    .colab-df-convert:hover {\n",
              "      background-color: #E2EBFA;\n",
              "      box-shadow: 0px 1px 2px rgba(60, 64, 67, 0.3), 0px 1px 3px 1px rgba(60, 64, 67, 0.15);\n",
              "      fill: #174EA6;\n",
              "    }\n",
              "\n",
              "    .colab-df-buttons div {\n",
              "      margin-bottom: 4px;\n",
              "    }\n",
              "\n",
              "    [theme=dark] .colab-df-convert {\n",
              "      background-color: #3B4455;\n",
              "      fill: #D2E3FC;\n",
              "    }\n",
              "\n",
              "    [theme=dark] .colab-df-convert:hover {\n",
              "      background-color: #434B5C;\n",
              "      box-shadow: 0px 1px 3px 1px rgba(0, 0, 0, 0.15);\n",
              "      filter: drop-shadow(0px 1px 2px rgba(0, 0, 0, 0.3));\n",
              "      fill: #FFFFFF;\n",
              "    }\n",
              "  </style>\n",
              "\n",
              "    <script>\n",
              "      const buttonEl =\n",
              "        document.querySelector('#df-b7b58beb-7796-4f33-87f1-ff773718412d button.colab-df-convert');\n",
              "      buttonEl.style.display =\n",
              "        google.colab.kernel.accessAllowed ? 'block' : 'none';\n",
              "\n",
              "      async function convertToInteractive(key) {\n",
              "        const element = document.querySelector('#df-b7b58beb-7796-4f33-87f1-ff773718412d');\n",
              "        const dataTable =\n",
              "          await google.colab.kernel.invokeFunction('convertToInteractive',\n",
              "                                                    [key], {});\n",
              "        if (!dataTable) return;\n",
              "\n",
              "        const docLinkHtml = 'Like what you see? Visit the ' +\n",
              "          '<a target=\"_blank\" href=https://colab.research.google.com/notebooks/data_table.ipynb>data table notebook</a>'\n",
              "          + ' to learn more about interactive tables.';\n",
              "        element.innerHTML = '';\n",
              "        dataTable['output_type'] = 'display_data';\n",
              "        await google.colab.output.renderOutput(dataTable, element);\n",
              "        const docLink = document.createElement('div');\n",
              "        docLink.innerHTML = docLinkHtml;\n",
              "        element.appendChild(docLink);\n",
              "      }\n",
              "    </script>\n",
              "  </div>\n",
              "\n",
              "\n",
              "    <div id=\"df-ad24b541-0b7a-4449-95d0-dc44bf200966\">\n",
              "      <button class=\"colab-df-quickchart\" onclick=\"quickchart('df-ad24b541-0b7a-4449-95d0-dc44bf200966')\"\n",
              "                title=\"Suggest charts\"\n",
              "                style=\"display:none;\">\n",
              "\n",
              "<svg xmlns=\"http://www.w3.org/2000/svg\" height=\"24px\"viewBox=\"0 0 24 24\"\n",
              "     width=\"24px\">\n",
              "    <g>\n",
              "        <path d=\"M19 3H5c-1.1 0-2 .9-2 2v14c0 1.1.9 2 2 2h14c1.1 0 2-.9 2-2V5c0-1.1-.9-2-2-2zM9 17H7v-7h2v7zm4 0h-2V7h2v10zm4 0h-2v-4h2v4z\"/>\n",
              "    </g>\n",
              "</svg>\n",
              "      </button>\n",
              "\n",
              "<style>\n",
              "  .colab-df-quickchart {\n",
              "      --bg-color: #E8F0FE;\n",
              "      --fill-color: #1967D2;\n",
              "      --hover-bg-color: #E2EBFA;\n",
              "      --hover-fill-color: #174EA6;\n",
              "      --disabled-fill-color: #AAA;\n",
              "      --disabled-bg-color: #DDD;\n",
              "  }\n",
              "\n",
              "  [theme=dark] .colab-df-quickchart {\n",
              "      --bg-color: #3B4455;\n",
              "      --fill-color: #D2E3FC;\n",
              "      --hover-bg-color: #434B5C;\n",
              "      --hover-fill-color: #FFFFFF;\n",
              "      --disabled-bg-color: #3B4455;\n",
              "      --disabled-fill-color: #666;\n",
              "  }\n",
              "\n",
              "  .colab-df-quickchart {\n",
              "    background-color: var(--bg-color);\n",
              "    border: none;\n",
              "    border-radius: 50%;\n",
              "    cursor: pointer;\n",
              "    display: none;\n",
              "    fill: var(--fill-color);\n",
              "    height: 32px;\n",
              "    padding: 0;\n",
              "    width: 32px;\n",
              "  }\n",
              "\n",
              "  .colab-df-quickchart:hover {\n",
              "    background-color: var(--hover-bg-color);\n",
              "    box-shadow: 0 1px 2px rgba(60, 64, 67, 0.3), 0 1px 3px 1px rgba(60, 64, 67, 0.15);\n",
              "    fill: var(--button-hover-fill-color);\n",
              "  }\n",
              "\n",
              "  .colab-df-quickchart-complete:disabled,\n",
              "  .colab-df-quickchart-complete:disabled:hover {\n",
              "    background-color: var(--disabled-bg-color);\n",
              "    fill: var(--disabled-fill-color);\n",
              "    box-shadow: none;\n",
              "  }\n",
              "\n",
              "  .colab-df-spinner {\n",
              "    border: 2px solid var(--fill-color);\n",
              "    border-color: transparent;\n",
              "    border-bottom-color: var(--fill-color);\n",
              "    animation:\n",
              "      spin 1s steps(1) infinite;\n",
              "  }\n",
              "\n",
              "  @keyframes spin {\n",
              "    0% {\n",
              "      border-color: transparent;\n",
              "      border-bottom-color: var(--fill-color);\n",
              "      border-left-color: var(--fill-color);\n",
              "    }\n",
              "    20% {\n",
              "      border-color: transparent;\n",
              "      border-left-color: var(--fill-color);\n",
              "      border-top-color: var(--fill-color);\n",
              "    }\n",
              "    30% {\n",
              "      border-color: transparent;\n",
              "      border-left-color: var(--fill-color);\n",
              "      border-top-color: var(--fill-color);\n",
              "      border-right-color: var(--fill-color);\n",
              "    }\n",
              "    40% {\n",
              "      border-color: transparent;\n",
              "      border-right-color: var(--fill-color);\n",
              "      border-top-color: var(--fill-color);\n",
              "    }\n",
              "    60% {\n",
              "      border-color: transparent;\n",
              "      border-right-color: var(--fill-color);\n",
              "    }\n",
              "    80% {\n",
              "      border-color: transparent;\n",
              "      border-right-color: var(--fill-color);\n",
              "      border-bottom-color: var(--fill-color);\n",
              "    }\n",
              "    90% {\n",
              "      border-color: transparent;\n",
              "      border-bottom-color: var(--fill-color);\n",
              "    }\n",
              "  }\n",
              "</style>\n",
              "\n",
              "      <script>\n",
              "        async function quickchart(key) {\n",
              "          const quickchartButtonEl =\n",
              "            document.querySelector('#' + key + ' button');\n",
              "          quickchartButtonEl.disabled = true;  // To prevent multiple clicks.\n",
              "          quickchartButtonEl.classList.add('colab-df-spinner');\n",
              "          try {\n",
              "            const charts = await google.colab.kernel.invokeFunction(\n",
              "                'suggestCharts', [key], {});\n",
              "          } catch (error) {\n",
              "            console.error('Error during call to suggestCharts:', error);\n",
              "          }\n",
              "          quickchartButtonEl.classList.remove('colab-df-spinner');\n",
              "          quickchartButtonEl.classList.add('colab-df-quickchart-complete');\n",
              "        }\n",
              "        (() => {\n",
              "          let quickchartButtonEl =\n",
              "            document.querySelector('#df-ad24b541-0b7a-4449-95d0-dc44bf200966 button');\n",
              "          quickchartButtonEl.style.display =\n",
              "            google.colab.kernel.accessAllowed ? 'block' : 'none';\n",
              "        })();\n",
              "      </script>\n",
              "    </div>\n",
              "\n",
              "    </div>\n",
              "  </div>\n"
            ],
            "application/vnd.google.colaboratory.intrinsic+json": {
              "type": "dataframe",
              "summary": "{\n  \"name\": \"df\",\n  \"rows\": 11,\n  \"fields\": [\n    {\n      \"column\": \"ID\",\n      \"properties\": {\n        \"dtype\": \"category\",\n        \"num_unique_values\": 3,\n        \"samples\": [\n          \"1500\",\n          \"M1500\",\n          \"1\"\n        ],\n        \"semantic_type\": \"\",\n        \"description\": \"\"\n      }\n    },\n    {\n      \"column\": \"IPK_Sem1\",\n      \"properties\": {\n        \"dtype\": \"number\",\n        \"std\": 529.4589408414573,\n        \"min\": 0.49018492972799926,\n        \"max\": 1500.0,\n        \"num_unique_values\": 8,\n        \"samples\": [\n          2.823713333333333,\n          2.825,\n          1500.0\n        ],\n        \"semantic_type\": \"\",\n        \"description\": \"\"\n      }\n    },\n    {\n      \"column\": \"IPK_Sem2\",\n      \"properties\": {\n        \"dtype\": \"number\",\n        \"std\": 529.4551295384956,\n        \"min\": 0.5633756331479968,\n        \"max\": 1500.0,\n        \"num_unique_values\": 8,\n        \"samples\": [\n          2.820473333333333,\n          2.82,\n          1500.0\n        ],\n        \"semantic_type\": \"\",\n        \"description\": \"\"\n      }\n    },\n    {\n      \"column\": \"IPK_Sem3\",\n      \"properties\": {\n        \"dtype\": \"number\",\n        \"std\": 529.4546759141957,\n        \"min\": 0.6143604732969512,\n        \"max\": 1500.0,\n        \"num_unique_values\": 8,\n        \"samples\": [\n          2.8056066666666664,\n          2.81,\n          1500.0\n        ],\n        \"semantic_type\": \"\",\n        \"description\": \"\"\n      }\n    },\n    {\n      \"column\": \"IPK_Sem4\",\n      \"properties\": {\n        \"dtype\": \"number\",\n        \"std\": 529.4545674751746,\n        \"min\": 0.6557748742869417,\n        \"max\": 1500.0,\n        \"num_unique_values\": 8,\n        \"samples\": [\n          2.7986066666666667,\n          2.78,\n          1500.0\n        ],\n        \"semantic_type\": \"\",\n        \"description\": \"\"\n      }\n    },\n    {\n      \"column\": \"Kehadiran_Rata\",\n      \"properties\": {\n        \"dtype\": \"number\",\n        \"std\": 506.8338439687774,\n        \"min\": 9.736844814310148,\n        \"max\": 1500.0,\n        \"num_unique_values\": 8,\n        \"samples\": [\n          80.0346,\n          80.15,\n          1500.0\n        ],\n        \"semantic_type\": \"\",\n        \"description\": \"\"\n      }\n    },\n    {\n      \"column\": \"Remedial_Total\",\n      \"properties\": {\n        \"dtype\": \"number\",\n        \"std\": 529.6905071185375,\n        \"min\": 0.0,\n        \"max\": 1500.0,\n        \"num_unique_values\": 7,\n        \"samples\": [\n          1500.0,\n          1.4893333333333334,\n          2.0\n        ],\n        \"semantic_type\": \"\",\n        \"description\": \"\"\n      }\n    },\n    {\n      \"column\": \"Aktivitas_Online\",\n      \"properties\": {\n        \"dtype\": \"number\",\n        \"std\": 527.0669323376864,\n        \"min\": 2.0,\n        \"max\": 1500.0,\n        \"num_unique_values\": 8,\n        \"samples\": [\n          10.040666666666667,\n          10.0,\n          1500.0\n        ],\n        \"semantic_type\": \"\",\n        \"description\": \"\"\n      }\n    },\n    {\n      \"column\": \"Pekerjaan\",\n      \"properties\": {\n        \"dtype\": \"number\",\n        \"std\": 530.1914153465942,\n        \"min\": 0.0,\n        \"max\": 1500.0,\n        \"num_unique_values\": 5,\n        \"samples\": [\n          0.29333333333333333,\n          1.0,\n          0.45544173466134363\n        ],\n        \"semantic_type\": \"\",\n        \"description\": \"\"\n      }\n    },\n    {\n      \"column\": \"Jam_Kerja_Mingguan\",\n      \"properties\": {\n        \"dtype\": \"number\",\n        \"std\": 526.7005038534589,\n        \"min\": 0.0,\n        \"max\": 1500.0,\n        \"num_unique_values\": 6,\n        \"samples\": [\n          1500.0,\n          7.542666666666666,\n          40.0\n        ],\n        \"semantic_type\": \"\",\n        \"description\": \"\"\n      }\n    },\n    {\n      \"column\": \"Pendapatan_OrangTua\",\n      \"properties\": {\n        \"dtype\": \"number\",\n        \"std\": 528.2850283321108,\n        \"min\": 1.0,\n        \"max\": 1500.0,\n        \"num_unique_values\": 8,\n        \"samples\": [\n          6.049,\n          6.0,\n          1500.0\n        ],\n        \"semantic_type\": \"\",\n        \"description\": \"\"\n      }\n    },\n    {\n      \"column\": \"Tanggungan_Keluarga\",\n      \"properties\": {\n        \"dtype\": \"number\",\n        \"std\": 528.493231034248,\n        \"min\": 1.0,\n        \"max\": 1500.0,\n        \"num_unique_values\": 8,\n        \"samples\": [\n          5.6466666666666665,\n          6.0,\n          1500.0\n        ],\n        \"semantic_type\": \"\",\n        \"description\": \"\"\n      }\n    },\n    {\n      \"column\": \"Risiko_DO\",\n      \"properties\": {\n        \"dtype\": \"number\",\n        \"std\": 530.257136563587,\n        \"min\": 0.0,\n        \"max\": 1500.0,\n        \"num_unique_values\": 5,\n        \"samples\": [\n          0.12066666666666667,\n          1.0,\n          0.32584813470922736\n        ],\n        \"semantic_type\": \"\",\n        \"description\": \"\"\n      }\n    }\n  ]\n}"
            }
          },
          "metadata": {},
          "execution_count": 143
        }
      ]
    },
    {
      "cell_type": "markdown",
      "source": [
        "## SPLIT DATA"
      ],
      "metadata": {
        "id": "pH76D16m6AFM"
      }
    },
    {
      "cell_type": "code",
      "source": [
        "print(y.value_counts())"
      ],
      "metadata": {
        "colab": {
          "base_uri": "https://localhost:8080/"
        },
        "id": "puskUewYoXX-",
        "outputId": "f0bf8161-0e58-4880-c708-63c058fd892b"
      },
      "execution_count": 144,
      "outputs": [
        {
          "output_type": "stream",
          "name": "stdout",
          "text": [
            "Risiko_DO\n",
            "Tidak    1319\n",
            "Ya        181\n",
            "Name: count, dtype: int64\n"
          ]
        }
      ]
    },
    {
      "cell_type": "code",
      "source": [
        "# Pembagian data: 80% untuk training, 20% untuk testing\n",
        "# stratify=y memastikan proporsi target di train dan test set sama\n",
        "X_train, X_test, y_train, y_test = train_test_split(\n",
        "    X_encoded, y, test_size=0.2, random_state=42, stratify=y\n",
        ")\n",
        "print(f\"\\n📊 Data dibagi menjadi: {X_train.shape[0]} baris training dan {X_test.shape[0]} baris testing.\")"
      ],
      "metadata": {
        "colab": {
          "base_uri": "https://localhost:8080/"
        },
        "id": "Xog5ex1D0Jcw",
        "outputId": "dcff0ea0-6bb0-4838-ab22-ca1e3f9188da"
      },
      "execution_count": 145,
      "outputs": [
        {
          "output_type": "stream",
          "name": "stdout",
          "text": [
            "\n",
            "📊 Data dibagi menjadi: 1200 baris training dan 300 baris testing.\n"
          ]
        }
      ]
    },
    {
      "cell_type": "markdown",
      "source": [
        "Membagi dataset menjadi 80% training dan 20% testing"
      ],
      "metadata": {
        "id": "10s_-wd47DML"
      }
    },
    {
      "cell_type": "markdown",
      "source": [
        "# MODELLING & EVALUASI"
      ],
      "metadata": {
        "id": "T_KJSaKk6Ct3"
      }
    },
    {
      "cell_type": "code",
      "source": [
        "\n",
        "\n",
        "# 4. PEMODELAN (MODELING)\n",
        "# Inisialisasi model Random Forest\n",
        "# n_estimators = jumlah pohon, max_depth bisa dikontrol jika perlu, random_state untuk replikasi\n",
        "model = RandomForestClassifier(n_estimators=100, random_state=42)\n",
        "\n",
        "# Melatih model dengan data training\n",
        "model.fit(X_train, y_train)\n",
        "\n",
        "print(\"Model Random Forest berhasil dilatih.\")"
      ],
      "metadata": {
        "colab": {
          "base_uri": "https://localhost:8080/"
        },
        "id": "BTarbO4B0JW7",
        "outputId": "49cfdddb-e20a-4bcf-bc8b-0eca71f2dacc"
      },
      "execution_count": 146,
      "outputs": [
        {
          "output_type": "stream",
          "name": "stdout",
          "text": [
            "Model Random Forest berhasil dilatih.\n"
          ]
        }
      ]
    },
    {
      "cell_type": "markdown",
      "source": [
        "Kode ini merupakan bagian dari tahap pemodelan dalam proses machine learning, di mana model yang digunakan adalah Random Forest Classifier dari pustaka scikit-learn. Random Forest adalah algoritma berbasis ensemble yang menggabungkan banyak pohon keputusan (decision trees) untuk menghasilkan prediksi yang lebih akurat dan stabil. Pada baris pertama, model diinisialisasi dengan parameter n_estimators=100, yang berarti model akan membangun 100 pohon keputusan. Parameter random_state=42 digunakan untuk memastikan hasil yang konsisten setiap kali kode dijalankan, karena proses pelatihan model melibatkan elemen acak. Selanjutnya, perintah model.fit(X_train, y_train) digunakan untuk melatih model menggunakan data latih, yaitu fitur (X_train) dan label target (y_train). Setelah model selesai dilatih, pernyataan print(\"Model Random Forest berhasil dilatih.\") akan menampilkan pesan bahwa proses pelatihan telah berhasil dilakukan. Tahap ini sangat penting karena model yang telah dilatih inilah yang nantinya akan digunakan untuk melakukan prediksi terhadap data baru.\n",
        "\n",
        "\n",
        "\n",
        "\n",
        "\n",
        "\n",
        "\n"
      ],
      "metadata": {
        "id": "0j-jjUTO7XkQ"
      }
    },
    {
      "cell_type": "markdown",
      "source": [],
      "metadata": {
        "id": "_DLLjhFN7i44"
      }
    },
    {
      "cell_type": "code",
      "source": [
        "from sklearn.metrics import ConfusionMatrixDisplay\n",
        "y_pred = model.predict(X_test)\n",
        "\n",
        "cm = confusion_matrix(y_test, y_pred)\n",
        "disp = ConfusionMatrixDisplay(confusion_matrix=cm, display_labels=[\"Aman\", \"Berisiko DO\"])\n",
        "disp.plot(cmap=plt.cm.Blues)\n",
        "plt.title(\"Confusion Matrix - Prediksi Risiko DO\")\n",
        "plt.show()\n",
        "print(f\"\\n📈 Akurasi Model: {accuracy_score(y_test, y_pred):.2%}\")\n",
        "# 7. Laporan klasifikasi\n",
        "print(classification_report(y_test, y_pred, target_names=[\"Aman\", \"Berisiko DO\"]))"
      ],
      "metadata": {
        "colab": {
          "base_uri": "https://localhost:8080/",
          "height": 663
        },
        "id": "d3pdG2EKtUkY",
        "outputId": "a085f108-7adb-431d-98b1-c4cc325a020a"
      },
      "execution_count": 147,
      "outputs": [
        {
          "output_type": "display_data",
          "data": {
            "text/plain": [
              "<Figure size 640x480 with 2 Axes>"
            ],
            "image/png": "[encoded data removed]"
          },
          "metadata": {}
        },
        {
          "output_type": "stream",
          "name": "stdout",
          "text": [
            "\n",
            "📈 Akurasi Model: 94.67%\n",
            "              precision    recall  f1-score   support\n",
            "\n",
            "        Aman       0.95      1.00      0.97       264\n",
            " Berisiko DO       0.95      0.58      0.72        36\n",
            "\n",
            "    accuracy                           0.95       300\n",
            "   macro avg       0.95      0.79      0.85       300\n",
            "weighted avg       0.95      0.95      0.94       300\n",
            "\n"
          ]
        }
      ]
    },
    {
      "cell_type": "markdown",
      "source": [
        "Kode ini merupakan bagian dari **tahap evaluasi model** dalam proses machine learning, yang bertujuan untuk menilai seberapa baik model Random Forest yang telah dilatih dalam memprediksi data yang belum pernah dilihat sebelumnya (data uji/test).\n",
        "\n",
        "Pertama, `model.predict(X_test)` digunakan untuk menghasilkan prediksi terhadap fitur-fitur dalam data uji (`X_test`). Hasil prediksi ini disimpan dalam variabel `y_pred`.\n",
        "\n",
        "Selanjutnya, kode mencetak akurasi model menggunakan `accuracy_score(y_test, y_pred)`, yaitu rasio prediksi yang benar dibandingkan dengan total jumlah prediksi. Akurasi ditampilkan dalam bentuk persentase dengan dua angka desimal untuk memudahkan interpretasi.\n",
        "\n",
        "Kemudian, `confusion_matrix(y_test, y_pred)` digunakan untuk menampilkan matriks kebingungan (*confusion matrix*), yang menunjukkan jumlah prediksi benar dan salah untuk masing-masing kelas (kelas 0 = \"Aman\", kelas 1 = \"Risiko DO\"). Ini membantu mengevaluasi kesalahan tipe I (false positive) dan tipe II (false negative).\n",
        "\n",
        "Terakhir, `classification_report(y_test, y_pred, target_names=target_names)` memberikan ringkasan metrik performa model seperti **precision**, **recall**, **f1-score**, dan **support** untuk setiap kelas. Ini sangat berguna untuk memahami seberapa baik model membedakan antar kelas, khususnya ketika data tidak seimbang.\n",
        "\n",
        "Secara keseluruhan, bagian kode ini memberikan gambaran menyeluruh tentang performa model dalam memprediksi risiko DO mahasiswa.\n"
      ],
      "metadata": {
        "id": "UxjduGsgD70s"
      }
    },
    {
      "cell_type": "code",
      "source": [
        "import matplotlib.pyplot as plt\n",
        "from sklearn.metrics import roc_curve, auc\n",
        "from sklearn.preprocessing import LabelEncoder\n",
        "\n",
        "# Jika y_test masih dalam bentuk string (seperti 'Ya', 'Tidak'), kita ubah dulu ke bentuk numerik\n",
        "le = LabelEncoder()\n",
        "y_test_binary = le.fit_transform(y_test)  # 'Tidak' -> 0, 'Ya' -> 1 (urutan tergantung LabelEncoder)\n",
        "\n",
        "# Ambil probabilitas prediksi kelas positif (biasanya kelas 1)\n",
        "y_prob = model.predict_proba(X_test)[:, 1]\n",
        "\n",
        "# Hitung ROC curve dan AUC\n",
        "fpr, tpr, thresholds = roc_curve(y_test_binary, y_prob)\n",
        "roc_auc = auc(fpr, tpr)\n",
        "\n",
        "# Plot ROC curve\n",
        "plt.figure(figsize=(6, 4))\n",
        "plt.plot(fpr, tpr, color='darkorange', lw=2, label=f'ROC Curve (AUC = {roc_auc:.2f})')\n",
        "plt.plot([0, 1], [0, 1], color='navy', lw=1, linestyle='--')\n",
        "plt.xlabel('False Positive Rate')\n",
        "plt.ylabel('True Positive Rate')\n",
        "plt.title('ROC Curve - Model SMOTE')\n",
        "plt.legend(loc='lower right')\n",
        "plt.grid(True)\n",
        "plt.show()\n"
      ],
      "metadata": {
        "colab": {
          "base_uri": "https://localhost:8080/",
          "height": 410
        },
        "id": "ggY6oeGezNdx",
        "outputId": "216d88dd-235b-41d5-a6f8-e68cd5cf7178"
      },
      "execution_count": 148,
      "outputs": [
        {
          "output_type": "display_data",
          "data": {
            "text/plain": [
              "<Figure size 600x400 with 1 Axes>"
            ],
            "image/png": "[encoded data removed]"
          },
          "metadata": {}
        }
      ]
    },
    {
      "cell_type": "markdown",
      "source": [
        "Kode pada gambar tersebut digunakan untuk memvisualisasikan performa model klasifikasi dengan menggambar kurva ROC (Receiver Operating Characteristic) menggunakan hasil prediksi dari model yang telah di-resample menggunakan metode SMOTE. Pertama, probabilitas prediksi kelas positif (label 1) diekstrak dari hasil predict_proba model. Kemudian, menggunakan fungsi roc_curve, dihitung nilai false positive rate (FPR) dan true positive rate (TPR), yang diperlukan untuk menggambar kurva ROC. Nilai AUC (Area Under the Curve) dihitung menggunakan fungsi auc(fpr, tpr)."
      ],
      "metadata": {
        "id": "6FFavEZ7229c"
      }
    },
    {
      "cell_type": "markdown",
      "source": [
        "## EXPORT & INFERENSI"
      ],
      "metadata": {
        "id": "vvtC71Sx6Kl3"
      }
    },
    {
      "cell_type": "code",
      "source": [
        "model_filename = 'model_prediksi_do.pkl'\n",
        "columns_filename = 'kolom_model.pkl'\n",
        "\n",
        "joblib.dump(model, model_filename)\n",
        "joblib.dump(X_train.columns.tolist(), columns_filename)\n",
        "\n",
        "print(f\"Model telah disimpan sebagai '{model_filename}'\")\n",
        "print(f\"Kolom model telah disimpan sebagai '{columns_filename}'\")"
      ],
      "metadata": {
        "colab": {
          "base_uri": "https://localhost:8080/"
        },
        "id": "PbBNkdCZuF1f",
        "outputId": "c6406cb9-5a3a-4ff2-cc33-bfa71d1fe9df"
      },
      "execution_count": 149,
      "outputs": [
        {
          "output_type": "stream",
          "name": "stdout",
          "text": [
            "Model telah disimpan sebagai 'model_prediksi_do.pkl'\n",
            "Kolom model telah disimpan sebagai 'kolom_model.pkl'\n"
          ]
        }
      ]
    },
    {
      "cell_type": "code",
      "source": [
        "import os\n",
        "import pandas as pd\n",
        "import joblib\n",
        "\n",
        "def clear_screen():\n",
        "    os.system('cls' if os.name == 'nt' else 'clear')\n",
        "\n",
        "def get_numeric_input(prompt, input_type=float, min_value=None, max_value=None):\n",
        "    while True:\n",
        "        try:\n",
        "            value = input_type(input(prompt))\n",
        "            if min_value is not None and value < min_value:\n",
        "                print(f\"❌ Nilai terlalu kecil. Harus minimal {min_value}.\")\n",
        "                continue\n",
        "            if max_value is not None and value > max_value:\n",
        "                print(f\"❌ Nilai terlalu besar. Maksimal {max_value}.\")\n",
        "                continue\n",
        "            return value\n",
        "        except ValueError:\n",
        "            print(\"❌ Input tidak valid. Harap masukkan angka.\")\n",
        "\n",
        "def get_categorical_input(prompt, options):\n",
        "    while True:\n",
        "        value = input(prompt).strip().capitalize()\n",
        "        if value in options:\n",
        "            return value\n",
        "        else:\n",
        "            print(f\"❌ Input tidak valid. Harap masukkan salah satu dari: {', '.join(options)}\")\n",
        "\n",
        "def get_ipk_input(semester_ke, ipk_sebelumnya=None):\n",
        "    \"\"\"Validasi agar perubahan IPK antar semester tidak terlalu drastis (maks selisih 1.0).\"\"\"\n",
        "    while True:\n",
        "        ipk = get_numeric_input(f\"IPK Semester {semester_ke} (contoh: 3.2): \", float, 0.0, 4.0)\n",
        "        if ipk_sebelumnya is not None:\n",
        "            selisih = abs(ipk - ipk_sebelumnya)\n",
        "            if selisih > 1.0:\n",
        "                print(\"❌ Perubahan IPK terlalu drastis. Harap masukkan nilai yang lebih realistis.\")\n",
        "                continue\n",
        "        return ipk\n",
        "\n",
        "# --- 1. MEMUAT MODEL DAN KOLOM ---\n",
        "try:\n",
        "    loaded_model = joblib.load('model_prediksi_do.pkl')\n",
        "    model_columns = joblib.load('kolom_model.pkl')\n",
        "    print(\"✅ Model dan kolom berhasil dimuat. Siap untuk prediksi.\")\n",
        "except FileNotFoundError:\n",
        "    print(\"❌ File model tidak ditemukan. Jalankan proses training terlebih dahulu.\")\n",
        "    exit()\n",
        "\n",
        "# --- 2. FUNGSI PREDIKSI ---\n",
        "def prediksi_risiko_do(data_mahasiswa, threshold=0.5):\n",
        "    df_input = pd.DataFrame([data_mahasiswa])\n",
        "    df_processed = pd.get_dummies(df_input, drop_first=True)\n",
        "    df_aligned = df_processed.reindex(columns=model_columns, fill_value=0)\n",
        "    probabilitas = loaded_model.predict_proba(df_aligned)[0]\n",
        "    prediksi = 1 if probabilitas[1] >= threshold else 0\n",
        "    return prediksi, probabilitas\n",
        "\n",
        "# --- 3. FUNGSI SARAN ---\n",
        "def berikan_saran(data_mahasiswa):\n",
        "    saran_list = []\n",
        "\n",
        "    if data_mahasiswa['IPK_Sem4'] < 2.75:\n",
        "        saran_list.append(\"💡 IPK semester terakhir Anda di bawah batas wajar. Segera konsultasi dengan DPA untuk menyusun strategi belajar.\")\n",
        "    if data_mahasiswa['Kehadiran_Rata'] < 80.0:\n",
        "        saran_list.append(\"📌 Kehadiran Anda rendah. Pastikan untuk selalu hadir di kelas dan komunikasi dengan dosen jika ada kendala.\")\n",
        "    if data_mahasiswa['Remedial_Total'] > 2:\n",
        "        saran_list.append(\"📚 Jumlah remedial cukup banyak. Pertimbangkan kelas tambahan atau tutor sebaya.\")\n",
        "    if data_mahasiswa['Pekerjaan'] == 'Ya' and data_mahasiswa['Jam_Kerja_Mingguan'] > 20:\n",
        "        saran_list.append(\"⏰ Jam kerja tinggi. Atur jadwal ketat agar tidak mengganggu akademik.\")\n",
        "    if data_mahasiswa['Tanggungan_Keluarga'] > 0:\n",
        "        pendapatan_per_tanggungan = data_mahasiswa['Pendapatan_OrangTua'] / data_mahasiswa['Tanggungan_Keluarga']\n",
        "        if pendapatan_per_tanggungan < 1.5:\n",
        "            saran_list.append(\"💰 Pertimbangkan mencari beasiswa atau bantuan pendidikan jika mengalami kendala finansial.\")\n",
        "\n",
        "    return saran_list\n",
        "\n",
        "# --- 4. LOOP UTAMA ---\n",
        "while True:\n",
        "    clear_screen()\n",
        "    print(\"==============================================\")\n",
        "    print(\"   Sistem Prediksi Risiko Drop Out Mahasiswa  \")\n",
        "    print(\"==============================================\")\n",
        "    print(\"Silakan masukkan data mahasiswa baru:\\n\")\n",
        "\n",
        "    ipk_sem1 = get_ipk_input(1)\n",
        "    ipk_sem2 = get_ipk_input(2, ipk_sem1)\n",
        "    ipk_sem3 = get_ipk_input(3, ipk_sem2)\n",
        "    ipk_sem4 = get_ipk_input(4, ipk_sem3)\n",
        "\n",
        "    data_baru = {\n",
        "        'IPK_Sem1': ipk_sem1,\n",
        "        'IPK_Sem2': ipk_sem2,\n",
        "        'IPK_Sem3': ipk_sem3,\n",
        "        'IPK_Sem4': ipk_sem4,\n",
        "        'Kehadiran_Rata': get_numeric_input(\"Rata-rata Kehadiran (%) (contoh: 85): \", float),\n",
        "        'Remedial_Total': get_numeric_input(\"Total Remedial (contoh: 2): \", int),\n",
        "        'Aktivitas_Online': get_numeric_input(\"Aktivitas Online (jam/minggu) (contoh: 10): \", int),\n",
        "        'Pekerjaan': get_categorical_input(\"Apakah mahasiswa bekerja? (Ya/Tidak): \", ['Ya', 'Tidak']),\n",
        "        'Jam_Kerja_Mingguan': get_numeric_input(\"Jam Kerja per Minggu (isi 0 jika tidak bekerja): \", int),\n",
        "        'Pendapatan_OrangTua': get_numeric_input(\"Pendapatan Orang Tua (juta/bulan) (contoh: 5.5): \", float),\n",
        "        'Tanggungan_Keluarga': get_numeric_input(\"Jumlah Tanggungan Keluarga (contoh: 4): \", int),\n",
        "    }\n",
        "\n",
        "    prediksi, probabilitas = prediksi_risiko_do(data_baru, threshold=0.5)\n",
        "\n",
        "    print(\"\\n------------------ HASIL PREDIKSI ------------------\")\n",
        "    if prediksi == 1:\n",
        "        print(\"🔴 Status Prediksi: BERISIKO DROP OUT\")\n",
        "    else:\n",
        "        print(\"🟢 Status Prediksi: AMAN\")\n",
        "\n",
        "    print(\"\\nKeyakinan Model:\")\n",
        "    print(f\"  - Probabilitas Aman: {probabilitas[0]:.2%}\")\n",
        "    print(f\"  - Probabilitas Berisiko DO: {probabilitas[1]:.2%}\")\n",
        "\n",
        "    saran = berikan_saran(data_baru)\n",
        "    if saran:\n",
        "        print(\"\\n🔍 Rekomendasi Peningkatan atau Perbaikan:\")\n",
        "        for item in saran:\n",
        "            print(f\"   - {item}\")\n",
        "    else:\n",
        "        print(\"\\n✅ Tidak ada rekomendasi khusus. Pertahankan performa baik Anda!\")\n",
        "\n",
        "    print(\"----------------------------------------------------\\n\")\n",
        "\n",
        "    lagi = input(\"Apakah Anda ingin menguji data mahasiswa lain? (y/n): \").strip().lower()\n",
        "    if lagi != 'y':\n",
        "        print(\"\\n👋 Terima kasih telah menggunakan sistem prediksi. Sampai jumpa!\")\n",
        "        break\n"
      ],
      "metadata": {
        "colab": {
          "base_uri": "https://localhost:8080/"
        },
        "id": "neyTbR0DuGxR",
        "outputId": "30eb3715-8e8e-45f6-fc1e-5a95c81ff208"
      },
      "execution_count": 151,
      "outputs": [
        {
          "output_type": "stream",
          "name": "stdout",
          "text": [
            "✅ Model dan kolom berhasil dimuat. Siap untuk prediksi.\n",
            "==============================================\n",
            "   Sistem Prediksi Risiko Drop Out Mahasiswa  \n",
            "==============================================\n",
            "Silakan masukkan data mahasiswa baru:\n",
            "\n",
            "IPK Semester 1 (contoh: 3.2): 4\n",
            "IPK Semester 2 (contoh: 3.2): 4\n",
            "IPK Semester 3 (contoh: 3.2): 4\n",
            "IPK Semester 4 (contoh: 3.2): 4\n",
            "Rata-rata Kehadiran (%) (contoh: 85): 95\n",
            "Total Remedial (contoh: 2): 0\n",
            "Aktivitas Online (jam/minggu) (contoh: 10): 2\n",
            "Apakah mahasiswa bekerja? (Ya/Tidak): ya\n",
            "Jam Kerja per Minggu (isi 0 jika tidak bekerja): 8\n",
            "Pendapatan Orang Tua (juta/bulan) (contoh: 5.5): 20\n",
            "Jumlah Tanggungan Keluarga (contoh: 4): 1\n",
            "\n",
            "------------------ HASIL PREDIKSI ------------------\n",
            "🟢 Status Prediksi: AMAN\n",
            "\n",
            "Keyakinan Model:\n",
            "  - Probabilitas Aman: 97.00%\n",
            "  - Probabilitas Berisiko DO: 3.00%\n",
            "\n",
            "✅ Tidak ada rekomendasi khusus. Pertahankan performa baik Anda!\n",
            "----------------------------------------------------\n",
            "\n",
            "Apakah Anda ingin menguji data mahasiswa lain? (y/n): y\n",
            "==============================================\n",
            "   Sistem Prediksi Risiko Drop Out Mahasiswa  \n",
            "==============================================\n",
            "Silakan masukkan data mahasiswa baru:\n",
            "\n",
            "IPK Semester 1 (contoh: 3.2): 2\n",
            "IPK Semester 2 (contoh: 3.2): 2\n",
            "IPK Semester 3 (contoh: 3.2): 1.4\n",
            "IPK Semester 4 (contoh: 3.2): 1.3\n",
            "Rata-rata Kehadiran (%) (contoh: 85): 67\n",
            "Total Remedial (contoh: 2): 6\n",
            "Aktivitas Online (jam/minggu) (contoh: 10): 20\n",
            "Apakah mahasiswa bekerja? (Ya/Tidak): ya\n",
            "Jam Kerja per Minggu (isi 0 jika tidak bekerja): 20\n",
            "Pendapatan Orang Tua (juta/bulan) (contoh: 5.5): 8\n",
            "Jumlah Tanggungan Keluarga (contoh: 4): 4\n",
            "\n",
            "------------------ HASIL PREDIKSI ------------------\n",
            "🔴 Status Prediksi: BERISIKO DROP OUT\n",
            "\n",
            "Keyakinan Model:\n",
            "  - Probabilitas Aman: 48.00%\n",
            "  - Probabilitas Berisiko DO: 52.00%\n",
            "\n",
            "🔍 Rekomendasi Peningkatan atau Perbaikan:\n",
            "   - 💡 IPK semester terakhir Anda di bawah batas wajar. Segera konsultasi dengan DPA untuk menyusun strategi belajar.\n",
            "   - 📌 Kehadiran Anda rendah. Pastikan untuk selalu hadir di kelas dan komunikasi dengan dosen jika ada kendala.\n",
            "   - 📚 Jumlah remedial cukup banyak. Pertimbangkan kelas tambahan atau tutor sebaya.\n",
            "----------------------------------------------------\n",
            "\n",
            "Apakah Anda ingin menguji data mahasiswa lain? (y/n): y\n",
            "==============================================\n",
            "   Sistem Prediksi Risiko Drop Out Mahasiswa  \n",
            "==============================================\n",
            "Silakan masukkan data mahasiswa baru:\n",
            "\n",
            "IPK Semester 1 (contoh: 3.2): 2\n",
            "IPK Semester 2 (contoh: 3.2): 2\n",
            "IPK Semester 3 (contoh: 3.2): 1.6\n",
            "IPK Semester 4 (contoh: 3.2): 1.3\n",
            "Rata-rata Kehadiran (%) (contoh: 85): 40\n",
            "Total Remedial (contoh: 2): 9\n",
            "Aktivitas Online (jam/minggu) (contoh: 10): 30\n",
            "Apakah mahasiswa bekerja? (Ya/Tidak): ya\n",
            "Jam Kerja per Minggu (isi 0 jika tidak bekerja): 20\n",
            "Pendapatan Orang Tua (juta/bulan) (contoh: 5.5): 20\n",
            "Jumlah Tanggungan Keluarga (contoh: 4): 5\n",
            "\n",
            "------------------ HASIL PREDIKSI ------------------\n",
            "🔴 Status Prediksi: BERISIKO DROP OUT\n",
            "\n",
            "Keyakinan Model:\n",
            "  - Probabilitas Aman: 36.00%\n",
            "  - Probabilitas Berisiko DO: 64.00%\n",
            "\n",
            "🔍 Rekomendasi Peningkatan atau Perbaikan:\n",
            "   - 💡 IPK semester terakhir Anda di bawah batas wajar. Segera konsultasi dengan DPA untuk menyusun strategi belajar.\n",
            "   - 📌 Kehadiran Anda rendah. Pastikan untuk selalu hadir di kelas dan komunikasi dengan dosen jika ada kendala.\n",
            "   - 📚 Jumlah remedial cukup banyak. Pertimbangkan kelas tambahan atau tutor sebaya.\n",
            "----------------------------------------------------\n",
            "\n",
            "Apakah Anda ingin menguji data mahasiswa lain? (y/n): 2\n",
            "\n",
            "👋 Terima kasih telah menggunakan sistem prediksi. Sampai jumpa!\n"
          ]
        }
      ]
    }
  ]
}