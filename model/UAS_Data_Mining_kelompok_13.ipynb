{
  "nbformat": 4,
  "nbformat_minor": 0,
  "metadata": {
    "colab": {
      "provenance": []
    },
    "kernelspec": {
      "name": "python3",
      "display_name": "Python 3"
    },
    "language_info": {
      "name": "python"
    }
  },
  "cells": [
    {
      "cell_type": "markdown",
      "source": [
        "## IMPORT LIBRARY"
      ],
      "metadata": {
        "id": "eLplvYKi50ls"
      }
    },
    {
      "cell_type": "code",
      "execution_count": 170,
      "metadata": {
        "id": "rud-jT5-yQmS"
      },
      "outputs": [],
      "source": [
        "# 1. IMPORT LIBRARY YANG DIBUTUHKAN\n",
        "import pandas as pd\n",
        "import numpy as np\n",
        "from sklearn.ensemble import RandomForestClassifier\n",
        "from sklearn.model_selection import train_test_split\n",
        "from sklearn.metrics import classification_report, confusion_matrix, accuracy_score\n",
        "import matplotlib.pyplot as plt\n",
        "import pandas as pd\n",
        "import joblib\n",
        "import os"
      ]
    },
    {
      "cell_type": "markdown",
      "source": [
        "Kode ini menyiapkan semua alat penting untuk memproses data, membangun model klasifikasi dengan Random Forest, mengevaluasi performanya, dan menyimpan hasilnya agar bisa digunakan dalam aplikasi prediksi ke depannya.\n",
        "\n",
        "**Penjelasan Singkat:**\n",
        "\n",
        "pandas & numpy: Untuk membaca dan mengolah data.\n",
        "\n",
        "RandomForestClassifier: Algoritma klasifikasi berbasis banyak pohon keputusan.\n",
        "\n",
        "train_test_split: Membagi data menjadi latih dan uji.\n",
        "\n",
        "classification_report, confusion_matrix, accuracy_score: Mengevaluasi kinerja model.\n",
        "\n",
        "matplotlib.pyplot: Membuat grafik (jika diperlukan).\n",
        "\n",
        "joblib: Menyimpan/memuat model.\n",
        "\n",
        "os: Mengelola file dan direktori."
      ],
      "metadata": {
        "id": "K2YAqAKn6ng0"
      }
    },
    {
      "cell_type": "markdown",
      "source": [
        "## LOAD DATA"
      ],
      "metadata": {
        "id": "06MPd1Eh55zm"
      }
    },
    {
      "cell_type": "code",
      "source": [
        "file_path = 'dataset_dengan_ipk_rata2.csv'\n",
        "df = pd.read_csv(file_path)"
      ],
      "metadata": {
        "id": "-uMTBx0WzAlu"
      },
      "execution_count": 171,
      "outputs": []
    },
    {
      "cell_type": "markdown",
      "source": [
        "kode diatas digunakan untuk melakukan prosses load terhadap dataset yang akan digunakan yaitu dataset_risiko_do_mahasiswa.csv"
      ],
      "metadata": {
        "id": "o4f9Rpki6o6q"
      }
    },
    {
      "cell_type": "markdown",
      "source": [
        "## PREPROCESSING"
      ],
      "metadata": {
        "id": "bQos3e6t57nF"
      }
    },
    {
      "cell_type": "code",
      "source": [
        "# Menampilkan informasi dasar dataset\n",
        "print(df.info())"
      ],
      "metadata": {
        "id": "guevg6Jb9e10",
        "outputId": "458d5192-3c6f-4df7-9105-ffc808931314",
        "colab": {
          "base_uri": "https://localhost:8080/"
        }
      },
      "execution_count": 172,
      "outputs": [
        {
          "output_type": "stream",
          "name": "stdout",
          "text": [
            "<class 'pandas.core.frame.DataFrame'>\n",
            "RangeIndex: 1500 entries, 0 to 1499\n",
            "Data columns (total 10 columns):\n",
            " #   Column               Non-Null Count  Dtype  \n",
            "---  ------               --------------  -----  \n",
            " 0   ID                   1500 non-null   object \n",
            " 1   Kehadiran_Rata       1500 non-null   float64\n",
            " 2   Remedial_Total       1500 non-null   int64  \n",
            " 3   Aktivitas_Online     1500 non-null   int64  \n",
            " 4   Pekerjaan            1500 non-null   object \n",
            " 5   Jam_Kerja_Mingguan   1500 non-null   int64  \n",
            " 6   Pendapatan_OrangTua  1500 non-null   float64\n",
            " 7   Tanggungan_Keluarga  1500 non-null   int64  \n",
            " 8   Risiko_DO            1500 non-null   object \n",
            " 9   IPK                  1500 non-null   float64\n",
            "dtypes: float64(3), int64(4), object(3)\n",
            "memory usage: 117.3+ KB\n",
            "None\n"
          ]
        }
      ]
    },
    {
      "cell_type": "markdown",
      "source": [
        "kode diatas digunakan untuk menampilkan info dari dataset yang digunakan"
      ],
      "metadata": {
        "id": "9GkFu9dyf3hK"
      }
    },
    {
      "cell_type": "code",
      "source": [
        "# Menampilkan statistik deskriptif dataset\n",
        "print(df.describe())"
      ],
      "metadata": {
        "id": "rNUQCgMF9_WH",
        "outputId": "196b2c1d-6f11-4d1e-cc5f-26e657699ce6",
        "colab": {
          "base_uri": "https://localhost:8080/"
        }
      },
      "execution_count": 173,
      "outputs": [
        {
          "output_type": "stream",
          "name": "stdout",
          "text": [
            "       Kehadiran_Rata  Remedial_Total  Aktivitas_Online  Jam_Kerja_Mingguan  \\\n",
            "count     1500.000000     1500.000000       1500.000000         1500.000000   \n",
            "mean        80.034600        1.489333         10.040667            7.542667   \n",
            "std          9.736845        1.234059          3.145199           12.633656   \n",
            "min         50.000000        0.000000          2.000000            0.000000   \n",
            "25%         73.700000        1.000000          8.000000            0.000000   \n",
            "50%         80.150000        1.000000         10.000000            0.000000   \n",
            "75%         86.700000        2.000000         12.000000           15.000000   \n",
            "max        100.000000        6.000000         20.000000           40.000000   \n",
            "\n",
            "       Pendapatan_OrangTua  Tanggungan_Keluarga          IPK  \n",
            "count          1500.000000          1500.000000  1500.000000  \n",
            "mean              6.049000             5.646667     2.812100  \n",
            "std               2.014343             2.880629     0.538249  \n",
            "min               1.000000             1.000000     1.505000  \n",
            "25%               4.700000             3.000000     2.425000  \n",
            "50%               6.000000             6.000000     2.812500  \n",
            "75%               7.400000             8.000000     3.215000  \n",
            "max              13.600000            10.000000     4.000000  \n"
          ]
        }
      ]
    },
    {
      "cell_type": "markdown",
      "source": [
        "kode diatas digunakan untuk Menampilkan statistik deskriptif dari dataset yang digunakan"
      ],
      "metadata": {
        "id": "nWWot5-kgCxG"
      }
    },
    {
      "cell_type": "code",
      "source": [
        "# Mengecek missing value\n",
        "print(df.isnull().sum())"
      ],
      "metadata": {
        "id": "R_6ATtXb-EmT",
        "outputId": "979a56f8-663b-4f19-9cdd-9eeeb82cfb85",
        "colab": {
          "base_uri": "https://localhost:8080/"
        }
      },
      "execution_count": 174,
      "outputs": [
        {
          "output_type": "stream",
          "name": "stdout",
          "text": [
            "ID                     0\n",
            "Kehadiran_Rata         0\n",
            "Remedial_Total         0\n",
            "Aktivitas_Online       0\n",
            "Pekerjaan              0\n",
            "Jam_Kerja_Mingguan     0\n",
            "Pendapatan_OrangTua    0\n",
            "Tanggungan_Keluarga    0\n",
            "Risiko_DO              0\n",
            "IPK                    0\n",
            "dtype: int64\n"
          ]
        }
      ]
    },
    {
      "cell_type": "markdown",
      "source": [
        "kode diatas digunakan untuk melihat apakah ada kolom yang didalamnya terdapat nilai yang kosong atau null"
      ],
      "metadata": {
        "id": "4tONwFiXgPqe"
      }
    },
    {
      "cell_type": "code",
      "source": [
        "# Mengecek Data Duplikat\n",
        "print(df.duplicated().sum())"
      ],
      "metadata": {
        "id": "8nW1nMtv-H2Y",
        "outputId": "1594500e-4071-4deb-c67a-b03984108370",
        "colab": {
          "base_uri": "https://localhost:8080/"
        }
      },
      "execution_count": 175,
      "outputs": [
        {
          "output_type": "stream",
          "name": "stdout",
          "text": [
            "0\n"
          ]
        }
      ]
    },
    {
      "cell_type": "markdown",
      "source": [
        "kode diatas digunakan untuk mengecek apakah terdapat data duplicat pada dataset yang digunakan. output yang keluar akan menunjukan seberapa banyak data yang duplikat"
      ],
      "metadata": {
        "id": "Hp_MSf6sxwGp"
      }
    },
    {
      "cell_type": "code",
      "source": [
        "# Tampilkan kolom-kolom dengan nilai unik \"Ya\" atau \"Tidak\"\n",
        "for col in df.columns:\n",
        "    if df[col].dropna().isin(['Ya', 'Tidak']).all():\n",
        "        df[col] = df[col].map({'Ya': 1, 'Tidak': 0})\n",
        "\n",
        "# Simpan dataset yang telah diproses\n",
        "df.to_csv(\"dataset_risiko_do_mahasiswa_encoded.csv\", index=False)\n",
        "\n",
        "print(\"✅ Preprocessing selesai. Data disimpan ke 'dataset_risiko_do_mahasiswa_encoded.csv'.\")\n"
      ],
      "metadata": {
        "colab": {
          "base_uri": "https://localhost:8080/"
        },
        "id": "v-NV4LNUciaF",
        "outputId": "49fefbba-2f4a-4e67-f8a7-29885af971a1"
      },
      "execution_count": 176,
      "outputs": [
        {
          "output_type": "stream",
          "name": "stdout",
          "text": [
            "✅ Preprocessing selesai. Data disimpan ke 'dataset_risiko_do_mahasiswa_encoded.csv'.\n"
          ]
        }
      ]
    },
    {
      "cell_type": "markdown",
      "source": [
        "kode diatas digunakan untuk mengubah nilai yang ada pada dataset, tepatnya pada kolom yang memiliki nilai ya atau tidak. nilai tersebut akan di ubah menjadi 0 untuk tidak dan 1 untuk ya. hal ini digunakan untuk memudahkan model membaca data yang di berikan sehingga membantu proses pelatihan atau klasifikasi pada dataset yang digunakan."
      ],
      "metadata": {
        "id": "J2Ffl36lyAas"
      }
    },
    {
      "cell_type": "code",
      "source": [
        "# Definisikan kolom target\n",
        "target_column = 'Risiko_DO'\n",
        "print(f\"🎯 Kolom target yang digunakan: '{target_column}'\")"
      ],
      "metadata": {
        "colab": {
          "base_uri": "https://localhost:8080/"
        },
        "id": "prAiP5nXz9Ln",
        "outputId": "27a470de-eb19-4654-a4e2-8f765d3eccc4"
      },
      "execution_count": 177,
      "outputs": [
        {
          "output_type": "stream",
          "name": "stdout",
          "text": [
            "🎯 Kolom target yang digunakan: 'Risiko_DO'\n"
          ]
        }
      ]
    },
    {
      "cell_type": "markdown",
      "source": [
        "Kode tersebut merupakan langkah krusial dalam tahap persiapan data, di mana Anda secara eksplisit memberi tahu program kolom mana yang menjadi tujuan atau target prediksi. Dengan menetapkan target_column = 'Risiko_DO', Anda mendefinisikan bahwa semua kolom lain akan digunakan untuk mencoba memprediksi nilai di kolom 'Risiko_DO' ini. Pernyataan print setelahnya berfungsi sebagai konfirmasi sederhana untuk memastikan bahwa kolom yang benar telah dipilih sebagai target sebelum melanjutkan ke proses selanjutnya."
      ],
      "metadata": {
        "id": "Fme6Tx0Y6uOa"
      }
    },
    {
      "cell_type": "code",
      "source": [
        "# Pisahkan fitur (X) dan target (y)\n",
        "# Hapus kolom 'ID' karena tidak relevan untuk prediksi\n",
        "X = df.drop([target_column, 'ID'], axis=1)\n",
        "y = df[target_column]"
      ],
      "metadata": {
        "id": "_U-h9av_0DhV"
      },
      "execution_count": 178,
      "outputs": []
    },
    {
      "cell_type": "markdown",
      "source": [
        "Kode ini melakukan langkah fundamental dalam persiapan data machine learning dengan memecah dataset menjadi dua komponen utama. Variabel X dibuat sebagai himpunan fitur, yang berisi semua kolom dari data asli yang akan digunakan sebagai input untuk prediksi, namun dengan membuang kolom target ('Risiko_DO') dan kolom identitas ('ID') yang tidak relevan. Sementara itu, variabel y secara spesifik diisolasi untuk menampung data target, yaitu kolom 'Risiko_DO' yang nilainya ingin kita prediksi. Pemisahan ini esensial agar kita bisa melatih model untuk mempelajari pola dari X guna menebak hasil di y."
      ],
      "metadata": {
        "id": "aUtTci2y6zVO"
      }
    },
    {
      "cell_type": "code",
      "source": [
        "# Encoding: Mengubah semua kolom kategorikal (tipe 'object') menjadi numerik\n",
        "# pd.get_dummies() secara otomatis mengubah kolom 'Pekerjaan' menjadi 'Pekerjaan_Ya' (0 atau 1)\n",
        "print(\"\\n🔄 Mengubah data kategorikal menjadi numerik (One-Hot Encoding)...\")\n",
        "X_encoded = pd.get_dummies(X, drop_first=True)\n",
        "print(\"Kolom setelah encoding:\", X_encoded.columns.tolist())"
      ],
      "metadata": {
        "colab": {
          "base_uri": "https://localhost:8080/"
        },
        "id": "SVzYsS0Q0EX8",
        "outputId": "98d92c65-d892-4c99-c588-5dd451dd186d"
      },
      "execution_count": 179,
      "outputs": [
        {
          "output_type": "stream",
          "name": "stdout",
          "text": [
            "\n",
            "🔄 Mengubah data kategorikal menjadi numerik (One-Hot Encoding)...\n",
            "Kolom setelah encoding: ['Kehadiran_Rata', 'Remedial_Total', 'Aktivitas_Online', 'Pekerjaan', 'Jam_Kerja_Mingguan', 'Pendapatan_OrangTua', 'Tanggungan_Keluarga', 'IPK']\n"
          ]
        }
      ]
    },
    {
      "cell_type": "markdown",
      "source": [
        "Kode ini melakukan langkah encoding, yaitu mengubah semua kolom yang berisi data non-numerik (seperti teks) di dalam himpunan fitur X menjadi format angka yang dapat dipahami oleh model machine learning. Secara spesifik, ia menggunakan fungsi pd.get_dummies untuk melakukan one-hot encoding pada kolom 'Pekerjaan'. Proses ini secara efektif mengubah kolom 'Pekerjaan' menjadi kolom baru bernama Pekerjaan_Ya, di mana nilai 1 merepresentasikan 'Ya' dan 0 merepresentasikan 'Tidak'. Penggunaan drop_first=True adalah praktik standar untuk menghindari redundansi data, sehingga X_encoded yang dihasilkan kini sepenuhnya numerik dan siap untuk tahap selanjutnya."
      ],
      "metadata": {
        "id": "FAPUBuT_7NPY"
      }
    },
    {
      "cell_type": "markdown",
      "source": [
        "## SPLIT DATA"
      ],
      "metadata": {
        "id": "pH76D16m6AFM"
      }
    },
    {
      "cell_type": "code",
      "source": [
        "print(y.value_counts())"
      ],
      "metadata": {
        "colab": {
          "base_uri": "https://localhost:8080/"
        },
        "id": "puskUewYoXX-",
        "outputId": "7c5cf157-d1c9-476d-92a0-29f75d358a23"
      },
      "execution_count": 180,
      "outputs": [
        {
          "output_type": "stream",
          "name": "stdout",
          "text": [
            "Risiko_DO\n",
            "0    1319\n",
            "1     181\n",
            "Name: count, dtype: int64\n"
          ]
        }
      ]
    },
    {
      "cell_type": "code",
      "source": [
        "# Pembagian data: 80% untuk training, 20% untuk testing\n",
        "# stratify=y memastikan proporsi target di train dan test set sama\n",
        "X_train, X_test, y_train, y_test = train_test_split(\n",
        "    X_encoded, y, test_size=0.2, random_state=42, stratify=y\n",
        ")\n",
        "print(f\"\\n📊 Data dibagi menjadi: {X_train.shape[0]} baris training dan {X_test.shape[0]} baris testing.\")"
      ],
      "metadata": {
        "colab": {
          "base_uri": "https://localhost:8080/"
        },
        "id": "Xog5ex1D0Jcw",
        "outputId": "bfad110c-c04b-49e6-cc99-91ec5ae32a49"
      },
      "execution_count": 181,
      "outputs": [
        {
          "output_type": "stream",
          "name": "stdout",
          "text": [
            "\n",
            "📊 Data dibagi menjadi: 1200 baris training dan 300 baris testing.\n"
          ]
        }
      ]
    },
    {
      "cell_type": "markdown",
      "source": [
        "Membagi dataset menjadi 80% training dan 20% testing"
      ],
      "metadata": {
        "id": "10s_-wd47DML"
      }
    },
    {
      "cell_type": "markdown",
      "source": [
        "# MODELLING & EVALUASI"
      ],
      "metadata": {
        "id": "T_KJSaKk6Ct3"
      }
    },
    {
      "cell_type": "code",
      "source": [
        "\n",
        "\n",
        "# 4. PEMODELAN (MODELING)\n",
        "# Inisialisasi model Random Forest\n",
        "# n_estimators = jumlah pohon, max_depth bisa dikontrol jika perlu, random_state untuk replikasi\n",
        "model = RandomForestClassifier(n_estimators=100, random_state=42)\n",
        "\n",
        "# Melatih model dengan data training\n",
        "model.fit(X_train, y_train)\n",
        "\n",
        "print(\"Model Random Forest berhasil dilatih.\")"
      ],
      "metadata": {
        "colab": {
          "base_uri": "https://localhost:8080/"
        },
        "id": "BTarbO4B0JW7",
        "outputId": "51b88859-9cf0-42dc-847f-869cec6243a8"
      },
      "execution_count": 182,
      "outputs": [
        {
          "output_type": "stream",
          "name": "stdout",
          "text": [
            "Model Random Forest berhasil dilatih.\n"
          ]
        }
      ]
    },
    {
      "cell_type": "markdown",
      "source": [
        "Kode ini merupakan bagian dari tahap pemodelan dalam proses machine learning, di mana model yang digunakan adalah Random Forest Classifier dari pustaka scikit-learn. Random Forest adalah algoritma berbasis ensemble yang menggabungkan banyak pohon keputusan (decision trees) untuk menghasilkan prediksi yang lebih akurat dan stabil. Pada baris pertama, model diinisialisasi dengan parameter n_estimators=100, yang berarti model akan membangun 100 pohon keputusan. Parameter random_state=42 digunakan untuk memastikan hasil yang konsisten setiap kali kode dijalankan, karena proses pelatihan model melibatkan elemen acak. Selanjutnya, perintah model.fit(X_train, y_train) digunakan untuk melatih model menggunakan data latih, yaitu fitur (X_train) dan label target (y_train). Setelah model selesai dilatih, pernyataan print(\"Model Random Forest berhasil dilatih.\") akan menampilkan pesan bahwa proses pelatihan telah berhasil dilakukan. Tahap ini sangat penting karena model yang telah dilatih inilah yang nantinya akan digunakan untuk melakukan prediksi terhadap data baru.\n",
        "\n",
        "\n",
        "\n",
        "\n",
        "\n",
        "\n",
        "\n"
      ],
      "metadata": {
        "id": "0j-jjUTO7XkQ"
      }
    },
    {
      "cell_type": "markdown",
      "source": [],
      "metadata": {
        "id": "_DLLjhFN7i44"
      }
    },
    {
      "cell_type": "code",
      "source": [
        "from sklearn.metrics import ConfusionMatrixDisplay\n",
        "\n",
        "cm = confusion_matrix(y_test, y_pred)\n",
        "disp = ConfusionMatrixDisplay(confusion_matrix=cm, display_labels=[\"Aman\", \"Berisiko DO\"])\n",
        "disp.plot(cmap=plt.cm.Blues)\n",
        "plt.title(\"Confusion Matrix - Prediksi Risiko DO\")\n",
        "plt.show()\n",
        "print(f\"\\n📈 Akurasi Model: {accuracy_score(y_test, y_pred):.2%}\")\n",
        "# 7. Laporan klasifikasi\n",
        "print(classification_report(y_test, y_pred, target_names=[\"Aman\", \"Berisiko DO\"]))"
      ],
      "metadata": {
        "colab": {
          "base_uri": "https://localhost:8080/",
          "height": 663
        },
        "id": "d3pdG2EKtUkY",
        "outputId": "5ef742a7-bdf2-4de3-ced8-c7c80aba7d7a"
      },
      "execution_count": 183,
      "outputs": [
        {
          "output_type": "display_data",
          "data": {
            "text/plain": [
              "<Figure size 640x480 with 2 Axes>"
            ],
            "image/png": "[encoded data removed]"
          },
          "metadata": {}
        },
        {
          "output_type": "stream",
          "name": "stdout",
          "text": [
            "\n",
            "📈 Akurasi Model: 92.67%\n",
            "              precision    recall  f1-score   support\n",
            "\n",
            "        Aman       0.94      0.98      0.96       264\n",
            " Berisiko DO       0.82      0.50      0.62        36\n",
            "\n",
            "    accuracy                           0.93       300\n",
            "   macro avg       0.88      0.74      0.79       300\n",
            "weighted avg       0.92      0.93      0.92       300\n",
            "\n"
          ]
        }
      ]
    },
    {
      "cell_type": "markdown",
      "source": [
        "Kode ini merupakan bagian dari **tahap evaluasi model** dalam proses machine learning, yang bertujuan untuk menilai seberapa baik model Random Forest yang telah dilatih dalam memprediksi data yang belum pernah dilihat sebelumnya (data uji/test).\n",
        "\n",
        "Pertama, `model.predict(X_test)` digunakan untuk menghasilkan prediksi terhadap fitur-fitur dalam data uji (`X_test`). Hasil prediksi ini disimpan dalam variabel `y_pred`.\n",
        "\n",
        "Selanjutnya, kode mencetak akurasi model menggunakan `accuracy_score(y_test, y_pred)`, yaitu rasio prediksi yang benar dibandingkan dengan total jumlah prediksi. Akurasi ditampilkan dalam bentuk persentase dengan dua angka desimal untuk memudahkan interpretasi.\n",
        "\n",
        "Kemudian, `confusion_matrix(y_test, y_pred)` digunakan untuk menampilkan matriks kebingungan (*confusion matrix*), yang menunjukkan jumlah prediksi benar dan salah untuk masing-masing kelas (kelas 0 = \"Aman\", kelas 1 = \"Risiko DO\"). Ini membantu mengevaluasi kesalahan tipe I (false positive) dan tipe II (false negative).\n",
        "\n",
        "Terakhir, `classification_report(y_test, y_pred, target_names=target_names)` memberikan ringkasan metrik performa model seperti **precision**, **recall**, **f1-score**, dan **support** untuk setiap kelas. Ini sangat berguna untuk memahami seberapa baik model membedakan antar kelas, khususnya ketika data tidak seimbang.\n",
        "\n",
        "Secara keseluruhan, bagian kode ini memberikan gambaran menyeluruh tentang performa model dalam memprediksi risiko DO mahasiswa.\n"
      ],
      "metadata": {
        "id": "UxjduGsgD70s"
      }
    },
    {
      "cell_type": "markdown",
      "source": [
        "## EXPORT & INFERENSI"
      ],
      "metadata": {
        "id": "vvtC71Sx6Kl3"
      }
    },
    {
      "cell_type": "code",
      "source": [
        "model_filename = 'model_prediksi_do.pkl'\n",
        "columns_filename = 'kolom_model.pkl'\n",
        "\n",
        "joblib.dump(model, model_filename)\n",
        "joblib.dump(X_train.columns.tolist(), columns_filename)\n",
        "\n",
        "print(f\"Model telah disimpan sebagai '{model_filename}'\")\n",
        "print(f\"Kolom model telah disimpan sebagai '{columns_filename}'\")"
      ],
      "metadata": {
        "colab": {
          "base_uri": "https://localhost:8080/"
        },
        "id": "PbBNkdCZuF1f",
        "outputId": "b0672028-2f03-411c-f6cc-eefa1e18db44"
      },
      "execution_count": 184,
      "outputs": [
        {
          "output_type": "stream",
          "name": "stdout",
          "text": [
            "Model telah disimpan sebagai 'model_prediksi_do.pkl'\n",
            "Kolom model telah disimpan sebagai 'kolom_model.pkl'\n"
          ]
        }
      ]
    },
    {
      "cell_type": "code",
      "source": [
        "import os\n",
        "import pandas as pd\n",
        "import joblib\n",
        "\n",
        "def clear_screen():\n",
        "    os.system('cls' if os.name == 'nt' else 'clear')\n",
        "\n",
        "def get_numeric_input(prompt, input_type=float, min_value=None, max_value=None):\n",
        "    while True:\n",
        "        try:\n",
        "            value = input_type(input(prompt))\n",
        "            if min_value is not None and value < min_value:\n",
        "                print(f\"❌ Nilai terlalu kecil. Harus minimal {min_value}.\")\n",
        "                continue\n",
        "            if max_value is not None and value > max_value:\n",
        "                print(f\"❌ Nilai terlalu besar. Maksimal {max_value}.\")\n",
        "                continue\n",
        "            return value\n",
        "        except ValueError:\n",
        "            print(\"❌ Input tidak valid. Harap masukkan angka.\")\n",
        "\n",
        "def get_categorical_input(prompt, options):\n",
        "    while True:\n",
        "        value = input(prompt).strip().capitalize()\n",
        "        if value in options:\n",
        "            return value\n",
        "        else:\n",
        "            print(f\"❌ Input tidak valid. Harap masukkan salah satu dari: {', '.join(options)}\")\n",
        "\n",
        "# --- MEMUAT MODEL ---\n",
        "try:\n",
        "    loaded_model = joblib.load('model_prediksi_do.pkl')\n",
        "    model_columns = joblib.load('kolom_model.pkl')\n",
        "    print(\"✅ Model dan kolom berhasil dimuat.\")\n",
        "except FileNotFoundError:\n",
        "    print(\"❌ Error: File model 'model_prediksi_do.pkl' atau 'kolom_model.pkl' tidak ditemukan.\")\n",
        "    exit()\n",
        "\n",
        "# --- FUNGSI PREDIKSI ---\n",
        "def prediksi_risiko_do(data_mahasiswa):\n",
        "    df_input = pd.DataFrame([data_mahasiswa])\n",
        "    df_processed = pd.get_dummies(df_input, drop_first=True)\n",
        "    df_aligned = df_processed.reindex(columns=model_columns, fill_value=0)\n",
        "    prediksi = loaded_model.predict(df_aligned)\n",
        "    probabilitas = loaded_model.predict_proba(df_aligned)\n",
        "    return prediksi[0], probabilitas[0]\n",
        "\n",
        "# --- FUNGSI SARAN ---\n",
        "def berikan_saran(data_mahasiswa):\n",
        "    saran_list = []\n",
        "\n",
        "    if data_mahasiswa['IPK'] < 2.75:\n",
        "        saran_list.append(\"💡 IPK Anda berada di bawah batas aman. Segera diskusikan strategi akademik dengan DPA.\")\n",
        "    if data_mahasiswa['Kehadiran_Rata'] < 80.0:\n",
        "        saran_list.append(\"📌 Kehadiran Anda rendah. Usahakan lebih konsisten hadir di kelas.\")\n",
        "    if data_mahasiswa['Remedial_Total'] > 2:\n",
        "        saran_list.append(\"📚 Terlalu banyak remedial. Pertimbangkan mendaftar program belajar tambahan.\")\n",
        "    if data_mahasiswa['Pekerjaan'] == 'Ya' and data_mahasiswa['Jam_Kerja_Mingguan'] > 20:\n",
        "        saran_list.append(\"⏰ Jam kerja cukup tinggi. Pertimbangkan manajemen waktu lebih ketat.\")\n",
        "    if data_mahasiswa['Tanggungan_Keluarga'] > 0:\n",
        "        pendapatan_per_tanggungan = data_mahasiswa['Pendapatan_OrangTua'] / data_mahasiswa['Tanggungan_Keluarga']\n",
        "        if pendapatan_per_tanggungan < 1.5:\n",
        "            saran_list.append(\"💰 Finansial keluarga terbatas. Coba cari informasi beasiswa.\")\n",
        "\n",
        "    return saran_list\n",
        "\n",
        "# --- LOOP UTAMA ---\n",
        "while True:\n",
        "    clear_screen()\n",
        "    print(\"=============================================\")\n",
        "    print(\"   Sistem Prediksi Risiko Drop Out Mahasiswa \")\n",
        "    print(\"=============================================\\n\")\n",
        "\n",
        "    data_baru = {\n",
        "        'IPK': get_numeric_input(\"Rata-rata IPK (contoh: 3.2): \", float, 0.0, 4.0),\n",
        "        'Kehadiran_Rata': get_numeric_input(\"Rata-rata Kehadiran (%) (contoh: 85): \", float),\n",
        "        'Remedial_Total': get_numeric_input(\"Total Remedial (contoh: 2): \", int),\n",
        "        'Aktivitas_Online': get_numeric_input(\"Aktivitas Online (jam/minggu) (contoh: 10): \", int),\n",
        "        'Pekerjaan': get_categorical_input(\"Apakah mahasiswa bekerja? (Ya/Tidak): \", ['Ya', 'Tidak']),\n",
        "        'Jam_Kerja_Mingguan': get_numeric_input(\"Jam Kerja per Minggu (isi 0 jika tidak bekerja): \", int),\n",
        "        'Pendapatan_OrangTua': get_numeric_input(\"Pendapatan Orang Tua (juta/bulan) (contoh: 5.5): \", float),\n",
        "        'Tanggungan_Keluarga': get_numeric_input(\"Jumlah Tanggungan Keluarga (contoh: 4): \", int),\n",
        "    }\n",
        "\n",
        "    prediksi, probabilitas = prediksi_risiko_do(data_baru)\n",
        "\n",
        "    print(\"\\n------------------ HASIL PREDIKSI ------------------\")\n",
        "    if prediksi == 1:\n",
        "        print(\"🔴 Status Prediksi: BERISIKO DROP OUT\")\n",
        "    else:\n",
        "        print(\"🟢 Status Prediksi: AMAN\")\n",
        "\n",
        "    print(\"\\nKeyakinan Model:\")\n",
        "    print(f\"  - Probabilitas Aman: {probabilitas[0]:.2%}\")\n",
        "    print(f\"  - Probabilitas Berisiko DO: {probabilitas[1]:.2%}\")\n",
        "\n",
        "    saran = berikan_saran(data_baru)\n",
        "    if saran:\n",
        "        print(\"\\n🔍 Rekomendasi Peningkatan atau Perbaikan:\")\n",
        "        for item in saran:\n",
        "            print(f\"   - {item}\")\n",
        "    else:\n",
        "        print(\"\\n✅ Tidak ada rekomendasi khusus. Pertahankan performa baik Anda!\")\n",
        "\n",
        "    print(\"----------------------------------------------------\\n\")\n",
        "\n",
        "    lagi = input(\"Apakah Anda ingin menguji data mahasiswa lain? (y/n): \").strip().lower()\n",
        "    if lagi != 'y':\n",
        "        print(\"\\n👋 Terima kasih telah menggunakan sistem prediksi. Sampai jumpa!\")\n",
        "        break\n"
      ],
      "metadata": {
        "colab": {
          "base_uri": "https://localhost:8080/"
        },
        "id": "neyTbR0DuGxR",
        "outputId": "0d39d95d-96a6-4675-e871-f800d5c208e0"
      },
      "execution_count": 185,
      "outputs": [
        {
          "output_type": "stream",
          "name": "stdout",
          "text": [
            "✅ Model dan kolom berhasil dimuat.\n",
            "=============================================\n",
            "   Sistem Prediksi Risiko Drop Out Mahasiswa \n",
            "=============================================\n",
            "\n",
            "Rata-rata IPK (contoh: 3.2): 4\n",
            "Rata-rata Kehadiran (%) (contoh: 85): 34\n",
            "Total Remedial (contoh: 2): 3\n",
            "Aktivitas Online (jam/minggu) (contoh: 10): 3\n",
            "Apakah mahasiswa bekerja? (Ya/Tidak): tidak\n",
            "Jam Kerja per Minggu (isi 0 jika tidak bekerja): 0\n",
            "Pendapatan Orang Tua (juta/bulan) (contoh: 5.5): 2\n",
            "Jumlah Tanggungan Keluarga (contoh: 4): 4\n",
            "\n",
            "------------------ HASIL PREDIKSI ------------------\n",
            "🟢 Status Prediksi: AMAN\n",
            "\n",
            "Keyakinan Model:\n",
            "  - Probabilitas Aman: 61.00%\n",
            "  - Probabilitas Berisiko DO: 39.00%\n",
            "\n",
            "🔍 Rekomendasi Peningkatan atau Perbaikan:\n",
            "   - 📌 Kehadiran Anda rendah. Usahakan lebih konsisten hadir di kelas.\n",
            "   - 📚 Terlalu banyak remedial. Pertimbangkan mendaftar program belajar tambahan.\n",
            "   - 💰 Finansial keluarga terbatas. Coba cari informasi beasiswa.\n",
            "----------------------------------------------------\n",
            "\n",
            "Apakah Anda ingin menguji data mahasiswa lain? (y/n): y\n",
            "=============================================\n",
            "   Sistem Prediksi Risiko Drop Out Mahasiswa \n",
            "=============================================\n",
            "\n",
            "Rata-rata IPK (contoh: 3.2): 3.5\n",
            "Rata-rata Kehadiran (%) (contoh: 85): 90\n",
            "Total Remedial (contoh: 2): 0\n",
            "Aktivitas Online (jam/minggu) (contoh: 10): 0\n",
            "Apakah mahasiswa bekerja? (Ya/Tidak): ya\n",
            "Jam Kerja per Minggu (isi 0 jika tidak bekerja): 20\n",
            "Pendapatan Orang Tua (juta/bulan) (contoh: 5.5): 2\n",
            "Jumlah Tanggungan Keluarga (contoh: 4): 2\n",
            "\n",
            "------------------ HASIL PREDIKSI ------------------\n",
            "🟢 Status Prediksi: AMAN\n",
            "\n",
            "Keyakinan Model:\n",
            "  - Probabilitas Aman: 84.00%\n",
            "  - Probabilitas Berisiko DO: 16.00%\n",
            "\n",
            "🔍 Rekomendasi Peningkatan atau Perbaikan:\n",
            "   - 💰 Finansial keluarga terbatas. Coba cari informasi beasiswa.\n",
            "----------------------------------------------------\n",
            "\n",
            "Apakah Anda ingin menguji data mahasiswa lain? (y/n): y\n",
            "=============================================\n",
            "   Sistem Prediksi Risiko Drop Out Mahasiswa \n",
            "=============================================\n",
            "\n",
            "Rata-rata IPK (contoh: 3.2): 2\n",
            "Rata-rata Kehadiran (%) (contoh: 85): 60\n",
            "Total Remedial (contoh: 2): 3\n",
            "Aktivitas Online (jam/minggu) (contoh: 10): 20\n",
            "Apakah mahasiswa bekerja? (Ya/Tidak): tidak\n",
            "Jam Kerja per Minggu (isi 0 jika tidak bekerja): 0\n",
            "Pendapatan Orang Tua (juta/bulan) (contoh: 5.5): 2\n",
            "Jumlah Tanggungan Keluarga (contoh: 4): 2\n",
            "\n",
            "------------------ HASIL PREDIKSI ------------------\n",
            "🔴 Status Prediksi: BERISIKO DROP OUT\n",
            "\n",
            "Keyakinan Model:\n",
            "  - Probabilitas Aman: 31.00%\n",
            "  - Probabilitas Berisiko DO: 69.00%\n",
            "\n",
            "🔍 Rekomendasi Peningkatan atau Perbaikan:\n",
            "   - 💡 IPK Anda berada di bawah batas aman. Segera diskusikan strategi akademik dengan DPA.\n",
            "   - 📌 Kehadiran Anda rendah. Usahakan lebih konsisten hadir di kelas.\n",
            "   - 📚 Terlalu banyak remedial. Pertimbangkan mendaftar program belajar tambahan.\n",
            "   - 💰 Finansial keluarga terbatas. Coba cari informasi beasiswa.\n",
            "----------------------------------------------------\n",
            "\n",
            "Apakah Anda ingin menguji data mahasiswa lain? (y/n): y\n",
            "=============================================\n",
            "   Sistem Prediksi Risiko Drop Out Mahasiswa \n",
            "=============================================\n",
            "\n",
            "Rata-rata IPK (contoh: 3.2): 1.9\n",
            "Rata-rata Kehadiran (%) (contoh: 85): 50\n",
            "Total Remedial (contoh: 2): 6\n",
            "Aktivitas Online (jam/minggu) (contoh: 10): 50\n",
            "Apakah mahasiswa bekerja? (Ya/Tidak): ya\n",
            "Jam Kerja per Minggu (isi 0 jika tidak bekerja): 20\n",
            "Pendapatan Orang Tua (juta/bulan) (contoh: 5.5): 5\n",
            "Jumlah Tanggungan Keluarga (contoh: 4): 1\n",
            "\n",
            "------------------ HASIL PREDIKSI ------------------\n",
            "🔴 Status Prediksi: BERISIKO DROP OUT\n",
            "\n",
            "Keyakinan Model:\n",
            "  - Probabilitas Aman: 29.00%\n",
            "  - Probabilitas Berisiko DO: 71.00%\n",
            "\n",
            "🔍 Rekomendasi Peningkatan atau Perbaikan:\n",
            "   - 💡 IPK Anda berada di bawah batas aman. Segera diskusikan strategi akademik dengan DPA.\n",
            "   - 📌 Kehadiran Anda rendah. Usahakan lebih konsisten hadir di kelas.\n",
            "   - 📚 Terlalu banyak remedial. Pertimbangkan mendaftar program belajar tambahan.\n",
            "----------------------------------------------------\n",
            "\n",
            "Apakah Anda ingin menguji data mahasiswa lain? (y/n): n\n",
            "\n",
            "👋 Terima kasih telah menggunakan sistem prediksi. Sampai jumpa!\n"
          ]
        }
      ]
    }
  ]
}